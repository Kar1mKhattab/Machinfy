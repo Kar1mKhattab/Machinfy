{
 "cells": [
  {
   "cell_type": "code",
   "execution_count": 191,
   "id": "4b7ceea7-d7d2-4d30-adee-fef1f1fc17bd",
   "metadata": {},
   "outputs": [],
   "source": [
    "import pandas as pd \n",
    "import numpy as np \n",
    "import seaborn as sns \n",
    "import matplotlib.pyplot as plt"
   ]
  },
  {
   "cell_type": "code",
   "execution_count": 193,
   "id": "f1ba0054-3626-4d76-9416-93bf996a6b30",
   "metadata": {},
   "outputs": [
    {
     "name": "stdout",
     "output_type": "stream",
     "text": [
      "Collecting imblearn\n",
      "  Downloading imblearn-0.0-py2.py3-none-any.whl (1.9 kB)\n",
      "Collecting imbalanced-learn\n",
      "  Downloading imbalanced_learn-0.8.0-py3-none-any.whl (206 kB)\n",
      "Requirement already satisfied: scipy>=0.19.1 in c:\\users\\lenovo\\anaconda3\\lib\\site-packages (from imbalanced-learn->imblearn) (1.6.2)\n",
      "Requirement already satisfied: numpy>=1.13.3 in c:\\users\\lenovo\\anaconda3\\lib\\site-packages (from imbalanced-learn->imblearn) (1.20.1)\n",
      "Requirement already satisfied: scikit-learn>=0.24 in c:\\users\\lenovo\\anaconda3\\lib\\site-packages (from imbalanced-learn->imblearn) (0.24.1)\n",
      "Requirement already satisfied: joblib>=0.11 in c:\\users\\lenovo\\anaconda3\\lib\\site-packages (from imbalanced-learn->imblearn) (1.0.1)\n",
      "Requirement already satisfied: threadpoolctl>=2.0.0 in c:\\users\\lenovo\\anaconda3\\lib\\site-packages (from scikit-learn>=0.24->imbalanced-learn->imblearn) (2.1.0)\n",
      "Installing collected packages: imbalanced-learn, imblearn\n",
      "Successfully installed imbalanced-learn-0.8.0 imblearn-0.0\n"
     ]
    }
   ],
   "source": [
    "!pip install imblearn"
   ]
  },
  {
   "cell_type": "code",
   "execution_count": 43,
   "id": "e5538bc0-46f0-463d-a848-db0116b822b6",
   "metadata": {},
   "outputs": [],
   "source": [
    "data=pd.read_csv('Bank_Personal_Loan_Modelling.csv')"
   ]
  },
  {
   "cell_type": "code",
   "execution_count": 44,
   "id": "7f13fdfc-2e19-4399-a978-02f5b41d4aad",
   "metadata": {},
   "outputs": [
    {
     "data": {
      "text/html": [
       "<div>\n",
       "<style scoped>\n",
       "    .dataframe tbody tr th:only-of-type {\n",
       "        vertical-align: middle;\n",
       "    }\n",
       "\n",
       "    .dataframe tbody tr th {\n",
       "        vertical-align: top;\n",
       "    }\n",
       "\n",
       "    .dataframe thead th {\n",
       "        text-align: right;\n",
       "    }\n",
       "</style>\n",
       "<table border=\"1\" class=\"dataframe\">\n",
       "  <thead>\n",
       "    <tr style=\"text-align: right;\">\n",
       "      <th></th>\n",
       "      <th>ID</th>\n",
       "      <th>Age</th>\n",
       "      <th>Experience</th>\n",
       "      <th>Income</th>\n",
       "      <th>ZIP Code</th>\n",
       "      <th>Family</th>\n",
       "      <th>CCAvg</th>\n",
       "      <th>Education</th>\n",
       "      <th>Mortgage</th>\n",
       "      <th>Personal Loan</th>\n",
       "      <th>Securities Account</th>\n",
       "      <th>CD Account</th>\n",
       "      <th>Online</th>\n",
       "      <th>CreditCard</th>\n",
       "    </tr>\n",
       "  </thead>\n",
       "  <tbody>\n",
       "    <tr>\n",
       "      <th>0</th>\n",
       "      <td>1</td>\n",
       "      <td>25</td>\n",
       "      <td>1</td>\n",
       "      <td>49</td>\n",
       "      <td>91107</td>\n",
       "      <td>4</td>\n",
       "      <td>1.6</td>\n",
       "      <td>1</td>\n",
       "      <td>0</td>\n",
       "      <td>0</td>\n",
       "      <td>1</td>\n",
       "      <td>0</td>\n",
       "      <td>0</td>\n",
       "      <td>0</td>\n",
       "    </tr>\n",
       "    <tr>\n",
       "      <th>1</th>\n",
       "      <td>2</td>\n",
       "      <td>45</td>\n",
       "      <td>19</td>\n",
       "      <td>34</td>\n",
       "      <td>90089</td>\n",
       "      <td>3</td>\n",
       "      <td>1.5</td>\n",
       "      <td>1</td>\n",
       "      <td>0</td>\n",
       "      <td>0</td>\n",
       "      <td>1</td>\n",
       "      <td>0</td>\n",
       "      <td>0</td>\n",
       "      <td>0</td>\n",
       "    </tr>\n",
       "    <tr>\n",
       "      <th>2</th>\n",
       "      <td>3</td>\n",
       "      <td>39</td>\n",
       "      <td>15</td>\n",
       "      <td>11</td>\n",
       "      <td>94720</td>\n",
       "      <td>1</td>\n",
       "      <td>1.0</td>\n",
       "      <td>1</td>\n",
       "      <td>0</td>\n",
       "      <td>0</td>\n",
       "      <td>0</td>\n",
       "      <td>0</td>\n",
       "      <td>0</td>\n",
       "      <td>0</td>\n",
       "    </tr>\n",
       "    <tr>\n",
       "      <th>3</th>\n",
       "      <td>4</td>\n",
       "      <td>35</td>\n",
       "      <td>9</td>\n",
       "      <td>100</td>\n",
       "      <td>94112</td>\n",
       "      <td>1</td>\n",
       "      <td>2.7</td>\n",
       "      <td>2</td>\n",
       "      <td>0</td>\n",
       "      <td>0</td>\n",
       "      <td>0</td>\n",
       "      <td>0</td>\n",
       "      <td>0</td>\n",
       "      <td>0</td>\n",
       "    </tr>\n",
       "    <tr>\n",
       "      <th>4</th>\n",
       "      <td>5</td>\n",
       "      <td>35</td>\n",
       "      <td>8</td>\n",
       "      <td>45</td>\n",
       "      <td>91330</td>\n",
       "      <td>4</td>\n",
       "      <td>1.0</td>\n",
       "      <td>2</td>\n",
       "      <td>0</td>\n",
       "      <td>0</td>\n",
       "      <td>0</td>\n",
       "      <td>0</td>\n",
       "      <td>0</td>\n",
       "      <td>1</td>\n",
       "    </tr>\n",
       "    <tr>\n",
       "      <th>...</th>\n",
       "      <td>...</td>\n",
       "      <td>...</td>\n",
       "      <td>...</td>\n",
       "      <td>...</td>\n",
       "      <td>...</td>\n",
       "      <td>...</td>\n",
       "      <td>...</td>\n",
       "      <td>...</td>\n",
       "      <td>...</td>\n",
       "      <td>...</td>\n",
       "      <td>...</td>\n",
       "      <td>...</td>\n",
       "      <td>...</td>\n",
       "      <td>...</td>\n",
       "    </tr>\n",
       "    <tr>\n",
       "      <th>4995</th>\n",
       "      <td>4996</td>\n",
       "      <td>29</td>\n",
       "      <td>3</td>\n",
       "      <td>40</td>\n",
       "      <td>92697</td>\n",
       "      <td>1</td>\n",
       "      <td>1.9</td>\n",
       "      <td>3</td>\n",
       "      <td>0</td>\n",
       "      <td>0</td>\n",
       "      <td>0</td>\n",
       "      <td>0</td>\n",
       "      <td>1</td>\n",
       "      <td>0</td>\n",
       "    </tr>\n",
       "    <tr>\n",
       "      <th>4996</th>\n",
       "      <td>4997</td>\n",
       "      <td>30</td>\n",
       "      <td>4</td>\n",
       "      <td>15</td>\n",
       "      <td>92037</td>\n",
       "      <td>4</td>\n",
       "      <td>0.4</td>\n",
       "      <td>1</td>\n",
       "      <td>85</td>\n",
       "      <td>0</td>\n",
       "      <td>0</td>\n",
       "      <td>0</td>\n",
       "      <td>1</td>\n",
       "      <td>0</td>\n",
       "    </tr>\n",
       "    <tr>\n",
       "      <th>4997</th>\n",
       "      <td>4998</td>\n",
       "      <td>63</td>\n",
       "      <td>39</td>\n",
       "      <td>24</td>\n",
       "      <td>93023</td>\n",
       "      <td>2</td>\n",
       "      <td>0.3</td>\n",
       "      <td>3</td>\n",
       "      <td>0</td>\n",
       "      <td>0</td>\n",
       "      <td>0</td>\n",
       "      <td>0</td>\n",
       "      <td>0</td>\n",
       "      <td>0</td>\n",
       "    </tr>\n",
       "    <tr>\n",
       "      <th>4998</th>\n",
       "      <td>4999</td>\n",
       "      <td>65</td>\n",
       "      <td>40</td>\n",
       "      <td>49</td>\n",
       "      <td>90034</td>\n",
       "      <td>3</td>\n",
       "      <td>0.5</td>\n",
       "      <td>2</td>\n",
       "      <td>0</td>\n",
       "      <td>0</td>\n",
       "      <td>0</td>\n",
       "      <td>0</td>\n",
       "      <td>1</td>\n",
       "      <td>0</td>\n",
       "    </tr>\n",
       "    <tr>\n",
       "      <th>4999</th>\n",
       "      <td>5000</td>\n",
       "      <td>28</td>\n",
       "      <td>4</td>\n",
       "      <td>83</td>\n",
       "      <td>92612</td>\n",
       "      <td>3</td>\n",
       "      <td>0.8</td>\n",
       "      <td>1</td>\n",
       "      <td>0</td>\n",
       "      <td>0</td>\n",
       "      <td>0</td>\n",
       "      <td>0</td>\n",
       "      <td>1</td>\n",
       "      <td>1</td>\n",
       "    </tr>\n",
       "  </tbody>\n",
       "</table>\n",
       "<p>5000 rows × 14 columns</p>\n",
       "</div>"
      ],
      "text/plain": [
       "        ID  Age  Experience  Income  ZIP Code  Family  CCAvg  Education  \\\n",
       "0        1   25           1      49     91107       4    1.6          1   \n",
       "1        2   45          19      34     90089       3    1.5          1   \n",
       "2        3   39          15      11     94720       1    1.0          1   \n",
       "3        4   35           9     100     94112       1    2.7          2   \n",
       "4        5   35           8      45     91330       4    1.0          2   \n",
       "...    ...  ...         ...     ...       ...     ...    ...        ...   \n",
       "4995  4996   29           3      40     92697       1    1.9          3   \n",
       "4996  4997   30           4      15     92037       4    0.4          1   \n",
       "4997  4998   63          39      24     93023       2    0.3          3   \n",
       "4998  4999   65          40      49     90034       3    0.5          2   \n",
       "4999  5000   28           4      83     92612       3    0.8          1   \n",
       "\n",
       "      Mortgage  Personal Loan  Securities Account  CD Account  Online  \\\n",
       "0            0              0                   1           0       0   \n",
       "1            0              0                   1           0       0   \n",
       "2            0              0                   0           0       0   \n",
       "3            0              0                   0           0       0   \n",
       "4            0              0                   0           0       0   \n",
       "...        ...            ...                 ...         ...     ...   \n",
       "4995         0              0                   0           0       1   \n",
       "4996        85              0                   0           0       1   \n",
       "4997         0              0                   0           0       0   \n",
       "4998         0              0                   0           0       1   \n",
       "4999         0              0                   0           0       1   \n",
       "\n",
       "      CreditCard  \n",
       "0              0  \n",
       "1              0  \n",
       "2              0  \n",
       "3              0  \n",
       "4              1  \n",
       "...          ...  \n",
       "4995           0  \n",
       "4996           0  \n",
       "4997           0  \n",
       "4998           0  \n",
       "4999           1  \n",
       "\n",
       "[5000 rows x 14 columns]"
      ]
     },
     "execution_count": 44,
     "metadata": {},
     "output_type": "execute_result"
    }
   ],
   "source": [
    "data"
   ]
  },
  {
   "cell_type": "code",
   "execution_count": 45,
   "id": "d1c79e33-995b-4447-b582-443defc1b432",
   "metadata": {},
   "outputs": [
    {
     "data": {
      "text/plain": [
       "ID                    0\n",
       "Age                   0\n",
       "Experience            0\n",
       "Income                0\n",
       "ZIP Code              0\n",
       "Family                0\n",
       "CCAvg                 0\n",
       "Education             0\n",
       "Mortgage              0\n",
       "Personal Loan         0\n",
       "Securities Account    0\n",
       "CD Account            0\n",
       "Online                0\n",
       "CreditCard            0\n",
       "dtype: int64"
      ]
     },
     "execution_count": 45,
     "metadata": {},
     "output_type": "execute_result"
    }
   ],
   "source": [
    "data.isnull().sum()"
   ]
  },
  {
   "cell_type": "code",
   "execution_count": 46,
   "id": "e7464cab-82c3-4651-bafc-7eded6906471",
   "metadata": {},
   "outputs": [
    {
     "name": "stdout",
     "output_type": "stream",
     "text": [
      "<class 'pandas.core.frame.DataFrame'>\n",
      "RangeIndex: 5000 entries, 0 to 4999\n",
      "Data columns (total 14 columns):\n",
      " #   Column              Non-Null Count  Dtype  \n",
      "---  ------              --------------  -----  \n",
      " 0   ID                  5000 non-null   int64  \n",
      " 1   Age                 5000 non-null   int64  \n",
      " 2   Experience          5000 non-null   int64  \n",
      " 3   Income              5000 non-null   int64  \n",
      " 4   ZIP Code            5000 non-null   int64  \n",
      " 5   Family              5000 non-null   int64  \n",
      " 6   CCAvg               5000 non-null   float64\n",
      " 7   Education           5000 non-null   int64  \n",
      " 8   Mortgage            5000 non-null   int64  \n",
      " 9   Personal Loan       5000 non-null   int64  \n",
      " 10  Securities Account  5000 non-null   int64  \n",
      " 11  CD Account          5000 non-null   int64  \n",
      " 12  Online              5000 non-null   int64  \n",
      " 13  CreditCard          5000 non-null   int64  \n",
      "dtypes: float64(1), int64(13)\n",
      "memory usage: 547.0 KB\n"
     ]
    }
   ],
   "source": [
    "data.info()"
   ]
  },
  {
   "cell_type": "code",
   "execution_count": 6,
   "id": "67ac9718-c3be-412b-95cf-92759a01613c",
   "metadata": {},
   "outputs": [
    {
     "data": {
      "image/png": "[encoded data removed]",
      "text/plain": [
       "<Figure size 432x288 with 2 Axes>"
      ]
     },
     "metadata": {
      "needs_background": "light"
     },
     "output_type": "display_data"
    }
   ],
   "source": [
    "sns.heatmap(data.isnull(),cmap='BuPu',cbar=True)\n",
    "plt.show()"
   ]
  },
  {
   "cell_type": "code",
   "execution_count": 47,
   "id": "6c882d16-a830-408d-b4a4-30bd838aaef9",
   "metadata": {
    "tags": []
   },
   "outputs": [
    {
     "data": {
      "text/html": [
       "<div>\n",
       "<style scoped>\n",
       "    .dataframe tbody tr th:only-of-type {\n",
       "        vertical-align: middle;\n",
       "    }\n",
       "\n",
       "    .dataframe tbody tr th {\n",
       "        vertical-align: top;\n",
       "    }\n",
       "\n",
       "    .dataframe thead th {\n",
       "        text-align: right;\n",
       "    }\n",
       "</style>\n",
       "<table border=\"1\" class=\"dataframe\">\n",
       "  <thead>\n",
       "    <tr style=\"text-align: right;\">\n",
       "      <th></th>\n",
       "      <th>ID</th>\n",
       "      <th>Age</th>\n",
       "      <th>Experience</th>\n",
       "      <th>Income</th>\n",
       "      <th>ZIP Code</th>\n",
       "      <th>Family</th>\n",
       "      <th>CCAvg</th>\n",
       "      <th>Education</th>\n",
       "      <th>Mortgage</th>\n",
       "      <th>Personal Loan</th>\n",
       "      <th>Securities Account</th>\n",
       "      <th>CD Account</th>\n",
       "      <th>Online</th>\n",
       "      <th>CreditCard</th>\n",
       "    </tr>\n",
       "  </thead>\n",
       "  <tbody>\n",
       "    <tr>\n",
       "      <th>count</th>\n",
       "      <td>5000.000000</td>\n",
       "      <td>5000.000000</td>\n",
       "      <td>5000.000000</td>\n",
       "      <td>5000.000000</td>\n",
       "      <td>5000.000000</td>\n",
       "      <td>5000.000000</td>\n",
       "      <td>5000.000000</td>\n",
       "      <td>5000.000000</td>\n",
       "      <td>5000.000000</td>\n",
       "      <td>5000.000000</td>\n",
       "      <td>5000.000000</td>\n",
       "      <td>5000.00000</td>\n",
       "      <td>5000.000000</td>\n",
       "      <td>5000.000000</td>\n",
       "    </tr>\n",
       "    <tr>\n",
       "      <th>mean</th>\n",
       "      <td>2500.500000</td>\n",
       "      <td>45.338400</td>\n",
       "      <td>20.104600</td>\n",
       "      <td>73.774200</td>\n",
       "      <td>93152.503000</td>\n",
       "      <td>2.396400</td>\n",
       "      <td>1.937938</td>\n",
       "      <td>1.881000</td>\n",
       "      <td>56.498800</td>\n",
       "      <td>0.096000</td>\n",
       "      <td>0.104400</td>\n",
       "      <td>0.06040</td>\n",
       "      <td>0.596800</td>\n",
       "      <td>0.294000</td>\n",
       "    </tr>\n",
       "    <tr>\n",
       "      <th>std</th>\n",
       "      <td>1443.520003</td>\n",
       "      <td>11.463166</td>\n",
       "      <td>11.467954</td>\n",
       "      <td>46.033729</td>\n",
       "      <td>2121.852197</td>\n",
       "      <td>1.147663</td>\n",
       "      <td>1.747659</td>\n",
       "      <td>0.839869</td>\n",
       "      <td>101.713802</td>\n",
       "      <td>0.294621</td>\n",
       "      <td>0.305809</td>\n",
       "      <td>0.23825</td>\n",
       "      <td>0.490589</td>\n",
       "      <td>0.455637</td>\n",
       "    </tr>\n",
       "    <tr>\n",
       "      <th>min</th>\n",
       "      <td>1.000000</td>\n",
       "      <td>23.000000</td>\n",
       "      <td>-3.000000</td>\n",
       "      <td>8.000000</td>\n",
       "      <td>9307.000000</td>\n",
       "      <td>1.000000</td>\n",
       "      <td>0.000000</td>\n",
       "      <td>1.000000</td>\n",
       "      <td>0.000000</td>\n",
       "      <td>0.000000</td>\n",
       "      <td>0.000000</td>\n",
       "      <td>0.00000</td>\n",
       "      <td>0.000000</td>\n",
       "      <td>0.000000</td>\n",
       "    </tr>\n",
       "    <tr>\n",
       "      <th>25%</th>\n",
       "      <td>1250.750000</td>\n",
       "      <td>35.000000</td>\n",
       "      <td>10.000000</td>\n",
       "      <td>39.000000</td>\n",
       "      <td>91911.000000</td>\n",
       "      <td>1.000000</td>\n",
       "      <td>0.700000</td>\n",
       "      <td>1.000000</td>\n",
       "      <td>0.000000</td>\n",
       "      <td>0.000000</td>\n",
       "      <td>0.000000</td>\n",
       "      <td>0.00000</td>\n",
       "      <td>0.000000</td>\n",
       "      <td>0.000000</td>\n",
       "    </tr>\n",
       "    <tr>\n",
       "      <th>50%</th>\n",
       "      <td>2500.500000</td>\n",
       "      <td>45.000000</td>\n",
       "      <td>20.000000</td>\n",
       "      <td>64.000000</td>\n",
       "      <td>93437.000000</td>\n",
       "      <td>2.000000</td>\n",
       "      <td>1.500000</td>\n",
       "      <td>2.000000</td>\n",
       "      <td>0.000000</td>\n",
       "      <td>0.000000</td>\n",
       "      <td>0.000000</td>\n",
       "      <td>0.00000</td>\n",
       "      <td>1.000000</td>\n",
       "      <td>0.000000</td>\n",
       "    </tr>\n",
       "    <tr>\n",
       "      <th>75%</th>\n",
       "      <td>3750.250000</td>\n",
       "      <td>55.000000</td>\n",
       "      <td>30.000000</td>\n",
       "      <td>98.000000</td>\n",
       "      <td>94608.000000</td>\n",
       "      <td>3.000000</td>\n",
       "      <td>2.500000</td>\n",
       "      <td>3.000000</td>\n",
       "      <td>101.000000</td>\n",
       "      <td>0.000000</td>\n",
       "      <td>0.000000</td>\n",
       "      <td>0.00000</td>\n",
       "      <td>1.000000</td>\n",
       "      <td>1.000000</td>\n",
       "    </tr>\n",
       "    <tr>\n",
       "      <th>max</th>\n",
       "      <td>5000.000000</td>\n",
       "      <td>67.000000</td>\n",
       "      <td>43.000000</td>\n",
       "      <td>224.000000</td>\n",
       "      <td>96651.000000</td>\n",
       "      <td>4.000000</td>\n",
       "      <td>10.000000</td>\n",
       "      <td>3.000000</td>\n",
       "      <td>635.000000</td>\n",
       "      <td>1.000000</td>\n",
       "      <td>1.000000</td>\n",
       "      <td>1.00000</td>\n",
       "      <td>1.000000</td>\n",
       "      <td>1.000000</td>\n",
       "    </tr>\n",
       "  </tbody>\n",
       "</table>\n",
       "</div>"
      ],
      "text/plain": [
       "                ID          Age   Experience       Income      ZIP Code  \\\n",
       "count  5000.000000  5000.000000  5000.000000  5000.000000   5000.000000   \n",
       "mean   2500.500000    45.338400    20.104600    73.774200  93152.503000   \n",
       "std    1443.520003    11.463166    11.467954    46.033729   2121.852197   \n",
       "min       1.000000    23.000000    -3.000000     8.000000   9307.000000   \n",
       "25%    1250.750000    35.000000    10.000000    39.000000  91911.000000   \n",
       "50%    2500.500000    45.000000    20.000000    64.000000  93437.000000   \n",
       "75%    3750.250000    55.000000    30.000000    98.000000  94608.000000   \n",
       "max    5000.000000    67.000000    43.000000   224.000000  96651.000000   \n",
       "\n",
       "            Family        CCAvg    Education     Mortgage  Personal Loan  \\\n",
       "count  5000.000000  5000.000000  5000.000000  5000.000000    5000.000000   \n",
       "mean      2.396400     1.937938     1.881000    56.498800       0.096000   \n",
       "std       1.147663     1.747659     0.839869   101.713802       0.294621   \n",
       "min       1.000000     0.000000     1.000000     0.000000       0.000000   \n",
       "25%       1.000000     0.700000     1.000000     0.000000       0.000000   \n",
       "50%       2.000000     1.500000     2.000000     0.000000       0.000000   \n",
       "75%       3.000000     2.500000     3.000000   101.000000       0.000000   \n",
       "max       4.000000    10.000000     3.000000   635.000000       1.000000   \n",
       "\n",
       "       Securities Account  CD Account       Online   CreditCard  \n",
       "count         5000.000000  5000.00000  5000.000000  5000.000000  \n",
       "mean             0.104400     0.06040     0.596800     0.294000  \n",
       "std              0.305809     0.23825     0.490589     0.455637  \n",
       "min              0.000000     0.00000     0.000000     0.000000  \n",
       "25%              0.000000     0.00000     0.000000     0.000000  \n",
       "50%              0.000000     0.00000     1.000000     0.000000  \n",
       "75%              0.000000     0.00000     1.000000     1.000000  \n",
       "max              1.000000     1.00000     1.000000     1.000000  "
      ]
     },
     "execution_count": 47,
     "metadata": {},
     "output_type": "execute_result"
    }
   ],
   "source": [
    "data.describe(include='all')"
   ]
  },
  {
   "cell_type": "markdown",
   "id": "10c4e5c6-43b7-4620-84ea-4a3cc8d96f1c",
   "metadata": {},
   "source": [
    "## Observations\n",
    "-Most of the data are normally distributed with few outliers.\n",
    "\n",
    "-The Minimum value of Experiance is negative , more of investigation is needed to clean this data.\n"
   ]
  },
  {
   "cell_type": "code",
   "execution_count": 452,
   "id": "bd7462a4-cc2d-41aa-906e-7afec22f29bb",
   "metadata": {},
   "outputs": [
    {
     "data": {
      "text/plain": [
       "32.0000    154\n",
       "20.0000    148\n",
       "9.0000     147\n",
       "5.0000     146\n",
       "23.0000    144\n",
       "35.0000    143\n",
       "25.0000    142\n",
       "28.0000    138\n",
       "18.0000    137\n",
       "19.0000    135\n",
       "26.0000    134\n",
       "24.0000    131\n",
       "3.0000     129\n",
       "14.0000    127\n",
       "16.0000    127\n",
       "30.0000    126\n",
       "34.0000    125\n",
       "17.0000    125\n",
       "27.0000    125\n",
       "29.0000    124\n",
       "22.0000    124\n",
       "7.0000     121\n",
       "15.0000    119\n",
       "8.0000     119\n",
       "6.0000     119\n",
       "10.0000    118\n",
       "13.0000    117\n",
       "33.0000    117\n",
       "11.0000    116\n",
       "37.0000    116\n",
       "36.0000    114\n",
       "21.0000    113\n",
       "4.0000     113\n",
       "31.0000    104\n",
       "12.0000    102\n",
       "38.0000     88\n",
       "2.0000      85\n",
       "39.0000     85\n",
       "1.0000      74\n",
       "0.0000      66\n",
       "40.0000     57\n",
       "20.1046     52\n",
       "41.0000     43\n",
       "42.0000      8\n",
       "43.0000      3\n",
       "Name: Experience, dtype: int64"
      ]
     },
     "execution_count": 452,
     "metadata": {},
     "output_type": "execute_result"
    }
   ],
   "source": [
    "data['Experience'].value_counts()\n"
   ]
  },
  {
   "cell_type": "markdown",
   "id": "98e73937-8cff-4332-98f4-84b25960294b",
   "metadata": {},
   "source": [
    "**There are 3 values in the Experiance Column are negative**"
   ]
  },
  {
   "cell_type": "code",
   "execution_count": 49,
   "id": "89126e22-c5ce-4991-89db-d0dd0f1a6830",
   "metadata": {},
   "outputs": [
    {
     "name": "stderr",
     "output_type": "stream",
     "text": [
      "<ipython-input-49-eef1d8cafd59>:3: SettingWithCopyWarning: \n",
      "A value is trying to be set on a copy of a slice from a DataFrame\n",
      "\n",
      "See the caveats in the documentation: https://pandas.pydata.org/pandas-docs/stable/user_guide/indexing.html#returning-a-view-versus-a-copy\n",
      "  data['Experience'][data['Experience'] < 0] = data['Experience'].mean()\n"
     ]
    }
   ],
   "source": [
    "\n",
    "data['Experience'][data['Experience'] < 0] = data['Experience'].mean()"
   ]
  },
  {
   "cell_type": "code",
   "execution_count": 50,
   "id": "7b70e923-aca6-4aef-aa17-58cee2836bfa",
   "metadata": {},
   "outputs": [
    {
     "data": {
      "text/plain": [
       "32.0000    154\n",
       "20.0000    148\n",
       "9.0000     147\n",
       "5.0000     146\n",
       "23.0000    144\n",
       "35.0000    143\n",
       "25.0000    142\n",
       "28.0000    138\n",
       "18.0000    137\n",
       "19.0000    135\n",
       "26.0000    134\n",
       "24.0000    131\n",
       "3.0000     129\n",
       "14.0000    127\n",
       "16.0000    127\n",
       "30.0000    126\n",
       "34.0000    125\n",
       "17.0000    125\n",
       "27.0000    125\n",
       "29.0000    124\n",
       "22.0000    124\n",
       "7.0000     121\n",
       "15.0000    119\n",
       "8.0000     119\n",
       "6.0000     119\n",
       "10.0000    118\n",
       "13.0000    117\n",
       "33.0000    117\n",
       "11.0000    116\n",
       "37.0000    116\n",
       "36.0000    114\n",
       "21.0000    113\n",
       "4.0000     113\n",
       "31.0000    104\n",
       "12.0000    102\n",
       "38.0000     88\n",
       "2.0000      85\n",
       "39.0000     85\n",
       "1.0000      74\n",
       "0.0000      66\n",
       "40.0000     57\n",
       "20.1046     52\n",
       "41.0000     43\n",
       "42.0000      8\n",
       "43.0000      3\n",
       "Name: Experience, dtype: int64"
      ]
     },
     "execution_count": 50,
     "metadata": {},
     "output_type": "execute_result"
    }
   ],
   "source": [
    "data['Experience'].value_counts()\n"
   ]
  },
  {
   "cell_type": "markdown",
   "id": "6c5f9e16-75ce-4420-8c2a-dd65e5a86675",
   "metadata": {},
   "source": [
    "**The negative values got cleaned and replaced with mean**"
   ]
  },
  {
   "cell_type": "code",
   "execution_count": 19,
   "id": "b10c2073-94b4-45a0-ae9c-d13aa9ff3ecb",
   "metadata": {
    "tags": []
   },
   "outputs": [
    {
     "data": {
      "text/html": [
       "<div>\n",
       "<style scoped>\n",
       "    .dataframe tbody tr th:only-of-type {\n",
       "        vertical-align: middle;\n",
       "    }\n",
       "\n",
       "    .dataframe tbody tr th {\n",
       "        vertical-align: top;\n",
       "    }\n",
       "\n",
       "    .dataframe thead th {\n",
       "        text-align: right;\n",
       "    }\n",
       "</style>\n",
       "<table border=\"1\" class=\"dataframe\">\n",
       "  <thead>\n",
       "    <tr style=\"text-align: right;\">\n",
       "      <th></th>\n",
       "      <th>ID</th>\n",
       "      <th>Age</th>\n",
       "      <th>Experience</th>\n",
       "      <th>Income</th>\n",
       "      <th>ZIP Code</th>\n",
       "      <th>Family</th>\n",
       "      <th>CCAvg</th>\n",
       "      <th>Education</th>\n",
       "      <th>Mortgage</th>\n",
       "      <th>Personal Loan</th>\n",
       "      <th>Securities Account</th>\n",
       "      <th>CD Account</th>\n",
       "      <th>Online</th>\n",
       "      <th>CreditCard</th>\n",
       "    </tr>\n",
       "  </thead>\n",
       "  <tbody>\n",
       "    <tr>\n",
       "      <th>ID</th>\n",
       "      <td>1.000000</td>\n",
       "      <td>-0.008473</td>\n",
       "      <td>-0.009406</td>\n",
       "      <td>-0.017695</td>\n",
       "      <td>0.013432</td>\n",
       "      <td>-0.016797</td>\n",
       "      <td>-0.024675</td>\n",
       "      <td>0.021463</td>\n",
       "      <td>-0.013920</td>\n",
       "      <td>-0.024801</td>\n",
       "      <td>-0.016972</td>\n",
       "      <td>-0.006909</td>\n",
       "      <td>-0.002528</td>\n",
       "      <td>0.017028</td>\n",
       "    </tr>\n",
       "    <tr>\n",
       "      <th>Age</th>\n",
       "      <td>-0.008473</td>\n",
       "      <td>1.000000</td>\n",
       "      <td>0.994101</td>\n",
       "      <td>-0.055269</td>\n",
       "      <td>-0.029216</td>\n",
       "      <td>-0.046418</td>\n",
       "      <td>-0.052012</td>\n",
       "      <td>0.041334</td>\n",
       "      <td>-0.012539</td>\n",
       "      <td>-0.007726</td>\n",
       "      <td>-0.000436</td>\n",
       "      <td>0.008043</td>\n",
       "      <td>0.013702</td>\n",
       "      <td>0.007681</td>\n",
       "    </tr>\n",
       "    <tr>\n",
       "      <th>Experience</th>\n",
       "      <td>-0.009406</td>\n",
       "      <td>0.994101</td>\n",
       "      <td>1.000000</td>\n",
       "      <td>-0.049245</td>\n",
       "      <td>-0.028564</td>\n",
       "      <td>-0.045610</td>\n",
       "      <td>-0.048939</td>\n",
       "      <td>0.018243</td>\n",
       "      <td>-0.013459</td>\n",
       "      <td>-0.014121</td>\n",
       "      <td>-0.000457</td>\n",
       "      <td>0.005450</td>\n",
       "      <td>0.013518</td>\n",
       "      <td>0.008876</td>\n",
       "    </tr>\n",
       "    <tr>\n",
       "      <th>Income</th>\n",
       "      <td>-0.017695</td>\n",
       "      <td>-0.055269</td>\n",
       "      <td>-0.049245</td>\n",
       "      <td>1.000000</td>\n",
       "      <td>-0.016410</td>\n",
       "      <td>-0.157501</td>\n",
       "      <td>0.645984</td>\n",
       "      <td>-0.187524</td>\n",
       "      <td>0.206806</td>\n",
       "      <td>0.502462</td>\n",
       "      <td>-0.002616</td>\n",
       "      <td>0.169738</td>\n",
       "      <td>0.014206</td>\n",
       "      <td>-0.002385</td>\n",
       "    </tr>\n",
       "    <tr>\n",
       "      <th>ZIP Code</th>\n",
       "      <td>0.013432</td>\n",
       "      <td>-0.029216</td>\n",
       "      <td>-0.028564</td>\n",
       "      <td>-0.016410</td>\n",
       "      <td>1.000000</td>\n",
       "      <td>0.011778</td>\n",
       "      <td>-0.004061</td>\n",
       "      <td>-0.017377</td>\n",
       "      <td>0.007383</td>\n",
       "      <td>0.000107</td>\n",
       "      <td>0.004704</td>\n",
       "      <td>0.019972</td>\n",
       "      <td>0.016990</td>\n",
       "      <td>0.007691</td>\n",
       "    </tr>\n",
       "    <tr>\n",
       "      <th>Family</th>\n",
       "      <td>-0.016797</td>\n",
       "      <td>-0.046418</td>\n",
       "      <td>-0.045610</td>\n",
       "      <td>-0.157501</td>\n",
       "      <td>0.011778</td>\n",
       "      <td>1.000000</td>\n",
       "      <td>-0.109275</td>\n",
       "      <td>0.064929</td>\n",
       "      <td>-0.020445</td>\n",
       "      <td>0.061367</td>\n",
       "      <td>0.019994</td>\n",
       "      <td>0.014110</td>\n",
       "      <td>0.010354</td>\n",
       "      <td>0.011588</td>\n",
       "    </tr>\n",
       "    <tr>\n",
       "      <th>CCAvg</th>\n",
       "      <td>-0.024675</td>\n",
       "      <td>-0.052012</td>\n",
       "      <td>-0.048939</td>\n",
       "      <td>0.645984</td>\n",
       "      <td>-0.004061</td>\n",
       "      <td>-0.109275</td>\n",
       "      <td>1.000000</td>\n",
       "      <td>-0.136124</td>\n",
       "      <td>0.109905</td>\n",
       "      <td>0.366889</td>\n",
       "      <td>0.015086</td>\n",
       "      <td>0.136534</td>\n",
       "      <td>-0.003611</td>\n",
       "      <td>-0.006689</td>\n",
       "    </tr>\n",
       "    <tr>\n",
       "      <th>Education</th>\n",
       "      <td>0.021463</td>\n",
       "      <td>0.041334</td>\n",
       "      <td>0.018243</td>\n",
       "      <td>-0.187524</td>\n",
       "      <td>-0.017377</td>\n",
       "      <td>0.064929</td>\n",
       "      <td>-0.136124</td>\n",
       "      <td>1.000000</td>\n",
       "      <td>-0.033327</td>\n",
       "      <td>0.136722</td>\n",
       "      <td>-0.010812</td>\n",
       "      <td>0.013934</td>\n",
       "      <td>-0.015004</td>\n",
       "      <td>-0.011014</td>\n",
       "    </tr>\n",
       "    <tr>\n",
       "      <th>Mortgage</th>\n",
       "      <td>-0.013920</td>\n",
       "      <td>-0.012539</td>\n",
       "      <td>-0.013459</td>\n",
       "      <td>0.206806</td>\n",
       "      <td>0.007383</td>\n",
       "      <td>-0.020445</td>\n",
       "      <td>0.109905</td>\n",
       "      <td>-0.033327</td>\n",
       "      <td>1.000000</td>\n",
       "      <td>0.142095</td>\n",
       "      <td>-0.005411</td>\n",
       "      <td>0.089311</td>\n",
       "      <td>-0.005995</td>\n",
       "      <td>-0.007231</td>\n",
       "    </tr>\n",
       "    <tr>\n",
       "      <th>Personal Loan</th>\n",
       "      <td>-0.024801</td>\n",
       "      <td>-0.007726</td>\n",
       "      <td>-0.014121</td>\n",
       "      <td>0.502462</td>\n",
       "      <td>0.000107</td>\n",
       "      <td>0.061367</td>\n",
       "      <td>0.366889</td>\n",
       "      <td>0.136722</td>\n",
       "      <td>0.142095</td>\n",
       "      <td>1.000000</td>\n",
       "      <td>0.021954</td>\n",
       "      <td>0.316355</td>\n",
       "      <td>0.006278</td>\n",
       "      <td>0.002802</td>\n",
       "    </tr>\n",
       "    <tr>\n",
       "      <th>Securities Account</th>\n",
       "      <td>-0.016972</td>\n",
       "      <td>-0.000436</td>\n",
       "      <td>-0.000457</td>\n",
       "      <td>-0.002616</td>\n",
       "      <td>0.004704</td>\n",
       "      <td>0.019994</td>\n",
       "      <td>0.015086</td>\n",
       "      <td>-0.010812</td>\n",
       "      <td>-0.005411</td>\n",
       "      <td>0.021954</td>\n",
       "      <td>1.000000</td>\n",
       "      <td>0.317034</td>\n",
       "      <td>0.012627</td>\n",
       "      <td>-0.015028</td>\n",
       "    </tr>\n",
       "    <tr>\n",
       "      <th>CD Account</th>\n",
       "      <td>-0.006909</td>\n",
       "      <td>0.008043</td>\n",
       "      <td>0.005450</td>\n",
       "      <td>0.169738</td>\n",
       "      <td>0.019972</td>\n",
       "      <td>0.014110</td>\n",
       "      <td>0.136534</td>\n",
       "      <td>0.013934</td>\n",
       "      <td>0.089311</td>\n",
       "      <td>0.316355</td>\n",
       "      <td>0.317034</td>\n",
       "      <td>1.000000</td>\n",
       "      <td>0.175880</td>\n",
       "      <td>0.278644</td>\n",
       "    </tr>\n",
       "    <tr>\n",
       "      <th>Online</th>\n",
       "      <td>-0.002528</td>\n",
       "      <td>0.013702</td>\n",
       "      <td>0.013518</td>\n",
       "      <td>0.014206</td>\n",
       "      <td>0.016990</td>\n",
       "      <td>0.010354</td>\n",
       "      <td>-0.003611</td>\n",
       "      <td>-0.015004</td>\n",
       "      <td>-0.005995</td>\n",
       "      <td>0.006278</td>\n",
       "      <td>0.012627</td>\n",
       "      <td>0.175880</td>\n",
       "      <td>1.000000</td>\n",
       "      <td>0.004210</td>\n",
       "    </tr>\n",
       "    <tr>\n",
       "      <th>CreditCard</th>\n",
       "      <td>0.017028</td>\n",
       "      <td>0.007681</td>\n",
       "      <td>0.008876</td>\n",
       "      <td>-0.002385</td>\n",
       "      <td>0.007691</td>\n",
       "      <td>0.011588</td>\n",
       "      <td>-0.006689</td>\n",
       "      <td>-0.011014</td>\n",
       "      <td>-0.007231</td>\n",
       "      <td>0.002802</td>\n",
       "      <td>-0.015028</td>\n",
       "      <td>0.278644</td>\n",
       "      <td>0.004210</td>\n",
       "      <td>1.000000</td>\n",
       "    </tr>\n",
       "  </tbody>\n",
       "</table>\n",
       "</div>"
      ],
      "text/plain": [
       "                          ID       Age  Experience    Income  ZIP Code  \\\n",
       "ID                  1.000000 -0.008473   -0.009406 -0.017695  0.013432   \n",
       "Age                -0.008473  1.000000    0.994101 -0.055269 -0.029216   \n",
       "Experience         -0.009406  0.994101    1.000000 -0.049245 -0.028564   \n",
       "Income             -0.017695 -0.055269   -0.049245  1.000000 -0.016410   \n",
       "ZIP Code            0.013432 -0.029216   -0.028564 -0.016410  1.000000   \n",
       "Family             -0.016797 -0.046418   -0.045610 -0.157501  0.011778   \n",
       "CCAvg              -0.024675 -0.052012   -0.048939  0.645984 -0.004061   \n",
       "Education           0.021463  0.041334    0.018243 -0.187524 -0.017377   \n",
       "Mortgage           -0.013920 -0.012539   -0.013459  0.206806  0.007383   \n",
       "Personal Loan      -0.024801 -0.007726   -0.014121  0.502462  0.000107   \n",
       "Securities Account -0.016972 -0.000436   -0.000457 -0.002616  0.004704   \n",
       "CD Account         -0.006909  0.008043    0.005450  0.169738  0.019972   \n",
       "Online             -0.002528  0.013702    0.013518  0.014206  0.016990   \n",
       "CreditCard          0.017028  0.007681    0.008876 -0.002385  0.007691   \n",
       "\n",
       "                      Family     CCAvg  Education  Mortgage  Personal Loan  \\\n",
       "ID                 -0.016797 -0.024675   0.021463 -0.013920      -0.024801   \n",
       "Age                -0.046418 -0.052012   0.041334 -0.012539      -0.007726   \n",
       "Experience         -0.045610 -0.048939   0.018243 -0.013459      -0.014121   \n",
       "Income             -0.157501  0.645984  -0.187524  0.206806       0.502462   \n",
       "ZIP Code            0.011778 -0.004061  -0.017377  0.007383       0.000107   \n",
       "Family              1.000000 -0.109275   0.064929 -0.020445       0.061367   \n",
       "CCAvg              -0.109275  1.000000  -0.136124  0.109905       0.366889   \n",
       "Education           0.064929 -0.136124   1.000000 -0.033327       0.136722   \n",
       "Mortgage           -0.020445  0.109905  -0.033327  1.000000       0.142095   \n",
       "Personal Loan       0.061367  0.366889   0.136722  0.142095       1.000000   \n",
       "Securities Account  0.019994  0.015086  -0.010812 -0.005411       0.021954   \n",
       "CD Account          0.014110  0.136534   0.013934  0.089311       0.316355   \n",
       "Online              0.010354 -0.003611  -0.015004 -0.005995       0.006278   \n",
       "CreditCard          0.011588 -0.006689  -0.011014 -0.007231       0.002802   \n",
       "\n",
       "                    Securities Account  CD Account    Online  CreditCard  \n",
       "ID                           -0.016972   -0.006909 -0.002528    0.017028  \n",
       "Age                          -0.000436    0.008043  0.013702    0.007681  \n",
       "Experience                   -0.000457    0.005450  0.013518    0.008876  \n",
       "Income                       -0.002616    0.169738  0.014206   -0.002385  \n",
       "ZIP Code                      0.004704    0.019972  0.016990    0.007691  \n",
       "Family                        0.019994    0.014110  0.010354    0.011588  \n",
       "CCAvg                         0.015086    0.136534 -0.003611   -0.006689  \n",
       "Education                    -0.010812    0.013934 -0.015004   -0.011014  \n",
       "Mortgage                     -0.005411    0.089311 -0.005995   -0.007231  \n",
       "Personal Loan                 0.021954    0.316355  0.006278    0.002802  \n",
       "Securities Account            1.000000    0.317034  0.012627   -0.015028  \n",
       "CD Account                    0.317034    1.000000  0.175880    0.278644  \n",
       "Online                        0.012627    0.175880  1.000000    0.004210  \n",
       "CreditCard                   -0.015028    0.278644  0.004210    1.000000  "
      ]
     },
     "execution_count": 19,
     "metadata": {},
     "output_type": "execute_result"
    }
   ],
   "source": [
    "data.corr()"
   ]
  },
  {
   "cell_type": "code",
   "execution_count": 195,
   "id": "ddfc042a-a1e5-4480-acfd-c38023e85ac4",
   "metadata": {},
   "outputs": [
    {
     "data": {
      "image/png": "[encoded data removed]",
      "text/plain": [
       "<Figure size 720x720 with 2 Axes>"
      ]
     },
     "metadata": {
      "needs_background": "light"
     },
     "output_type": "display_data"
    }
   ],
   "source": [
    "fig, ax = plt.subplots(figsize=(10,10))\n",
    "sns.heatmap(data.corr(),cmap='BuPu',cbar=True,annot=True,linewidths=0.5,ax=ax)\n",
    "plt.show()"
   ]
  },
  {
   "cell_type": "markdown",
   "id": "0bc872b3-0389-4f0b-bc59-a8ec9eefd66c",
   "metadata": {},
   "source": [
    "## Visualization of Data"
   ]
  },
  {
   "cell_type": "code",
   "execution_count": 21,
   "id": "f8320184-6307-4fc2-8bef-672447a91323",
   "metadata": {},
   "outputs": [
    {
     "data": {
      "image/png": "[encoded data removed]",
      "text/plain": [
       "<Figure size 437.5x360 with 1 Axes>"
      ]
     },
     "metadata": {
      "needs_background": "light"
     },
     "output_type": "display_data"
    }
   ],
   "source": [
    "sns.lmplot(x=\"Age\", y=\"Income\", data=data,hue='Personal Loan',line_kws={\"lw\":2 ,'color': 'red'},height=5);"
   ]
  },
  {
   "cell_type": "markdown",
   "id": "e12d3419-f4be-44bf-81ef-cfb4ff54162b",
   "metadata": {},
   "source": [
    "**Clients with income more than 100k are more likely to get loan**"
   ]
  },
  {
   "cell_type": "code",
   "execution_count": 60,
   "id": "bdc64ee2-067b-451f-a3fd-b304329a9456",
   "metadata": {},
   "outputs": [
    {
     "data": {
      "text/plain": [
       "<seaborn.axisgrid.FacetGrid at 0x1904da7edf0>"
      ]
     },
     "execution_count": 60,
     "metadata": {},
     "output_type": "execute_result"
    },
    {
     "data": {
      "image/png": "[encoded data removed]",
      "text/plain": [
       "<Figure size 1517.5x1440 with 1 Axes>"
      ]
     },
     "metadata": {
      "needs_background": "light"
     },
     "output_type": "display_data"
    }
   ],
   "source": [
    "sns.catplot(x=\"Experience\", hue='Personal Loan', kind=\"count\", data=data,height=20, aspect=1)"
   ]
  },
  {
   "cell_type": "code",
   "execution_count": 46,
   "id": "8c29789e-1327-472d-958a-774b9138796c",
   "metadata": {},
   "outputs": [
    {
     "data": {
      "text/plain": [
       "<seaborn.axisgrid.FacetGrid at 0x22abf5dd190>"
      ]
     },
     "execution_count": 46,
     "metadata": {},
     "output_type": "execute_result"
    },
    {
     "data": {
      "image/png": "[encoded data removed]",
      "text/plain": [
       "<Figure size 437.5x360 with 1 Axes>"
      ]
     },
     "metadata": {
      "needs_background": "light"
     },
     "output_type": "display_data"
    }
   ],
   "source": [
    "sns.catplot(x=\"Family\", hue='Personal Loan', kind=\"count\", data=data)"
   ]
  },
  {
   "cell_type": "code",
   "execution_count": 201,
   "id": "29e16617-b9bf-42a4-bc43-885e131f9ece",
   "metadata": {},
   "outputs": [
    {
     "data": {
      "text/plain": [
       "<seaborn.axisgrid.FacetGrid at 0x22accf08b50>"
      ]
     },
     "execution_count": 201,
     "metadata": {},
     "output_type": "execute_result"
    },
    {
     "data": {
      "image/png": "[encoded data removed]",
      "text/plain": [
       "<Figure size 437.5x360 with 1 Axes>"
      ]
     },
     "metadata": {
      "needs_background": "light"
     },
     "output_type": "display_data"
    }
   ],
   "source": [
    "sns.catplot(x='Family', y='Income', hue='Personal Loan', data = data, kind='strip')"
   ]
  },
  {
   "cell_type": "markdown",
   "id": "6d9b0624-091b-4e82-ae41-76e7ae47c0ef",
   "metadata": {},
   "source": [
    "## Observations\n",
    "-it's noticed from the above 2 columns that experiance and family as standalone attributes doesn't affect the personal loan \n",
    "while family members with 3 more and income above 100k are more likely to get the loan\n",
    "\n",
    "-also ID and Zipcode is not affecting the personal loan attribute"
   ]
  },
  {
   "cell_type": "code",
   "execution_count": 128,
   "id": "0a1f065d-a11c-437a-9ec5-3cfc916f4f04",
   "metadata": {},
   "outputs": [
    {
     "data": {
      "text/plain": [
       "<AxesSubplot:xlabel='CreditCard', ylabel='CD Account'>"
      ]
     },
     "execution_count": 128,
     "metadata": {},
     "output_type": "execute_result"
    },
    {
     "data": {
      "image/png": "[encoded data removed]",
      "text/plain": [
       "<Figure size 432x288 with 1 Axes>"
      ]
     },
     "metadata": {
      "needs_background": "light"
     },
     "output_type": "display_data"
    }
   ],
   "source": [
    "sns.barplot(y=\"CD Account\", x=\"CreditCard\", data=data,hue='Personal Loan')"
   ]
  },
  {
   "cell_type": "code",
   "execution_count": 126,
   "id": "14041707-76d7-423c-998e-da265e931678",
   "metadata": {},
   "outputs": [
    {
     "data": {
      "text/plain": [
       "<AxesSubplot:xlabel='Securities Account', ylabel='CD Account'>"
      ]
     },
     "execution_count": 126,
     "metadata": {},
     "output_type": "execute_result"
    },
    {
     "data": {
      "image/png": "[encoded data removed]",
      "text/plain": [
       "<Figure size 432x288 with 1 Axes>"
      ]
     },
     "metadata": {
      "needs_background": "light"
     },
     "output_type": "display_data"
    }
   ],
   "source": [
    "sns.barplot(y=\"CD Account\", x=\"Securities Account\", data=data,hue='Personal Loan')"
   ]
  },
  {
   "cell_type": "code",
   "execution_count": 454,
   "id": "a99f824a-badd-4c4d-8e84-5798358330c8",
   "metadata": {},
   "outputs": [
    {
     "data": {
      "text/plain": [
       "Text(0.5, 1.0, 'Ann_CCAvg Distribution')"
      ]
     },
     "execution_count": 454,
     "metadata": {},
     "output_type": "execute_result"
    },
    {
     "data": {
      "image/png": "[encoded data removed]",
      "text/plain": [
       "<Figure size 720x288 with 1 Axes>"
      ]
     },
     "metadata": {
      "needs_background": "light"
     },
     "output_type": "display_data"
    }
   ],
   "source": [
    "plt.figure(figsize=(10,4))\n",
    "sns.distplot(data[data[\"Personal Loan\"] == 0]['ann_CCAvg'], color = 'r',label='Personal Loan=0')\n",
    "sns.distplot(data[data[\"Personal Loan\"] == 1]['ann_CCAvg'], color = 'b',label='Personal Loan=1')\n",
    "plt.legend()\n",
    "plt.title(\"Ann_CCAvg Distribution\")"
   ]
  },
  {
   "cell_type": "markdown",
   "id": "cb8057bb-5b5b-4d26-842e-417bf8d15826",
   "metadata": {},
   "source": [
    "### Scaling CCAvg so it would be calculated annually same as income"
   ]
  },
  {
   "cell_type": "code",
   "execution_count": 62,
   "id": "e4fb35fd-6a13-4700-9098-be807260af50",
   "metadata": {},
   "outputs": [
    {
     "data": {
      "text/html": [
       "<div>\n",
       "<style scoped>\n",
       "    .dataframe tbody tr th:only-of-type {\n",
       "        vertical-align: middle;\n",
       "    }\n",
       "\n",
       "    .dataframe tbody tr th {\n",
       "        vertical-align: top;\n",
       "    }\n",
       "\n",
       "    .dataframe thead th {\n",
       "        text-align: right;\n",
       "    }\n",
       "</style>\n",
       "<table border=\"1\" class=\"dataframe\">\n",
       "  <thead>\n",
       "    <tr style=\"text-align: right;\">\n",
       "      <th></th>\n",
       "      <th>ID</th>\n",
       "      <th>Age</th>\n",
       "      <th>Experience</th>\n",
       "      <th>Income</th>\n",
       "      <th>ZIP Code</th>\n",
       "      <th>Family</th>\n",
       "      <th>Education</th>\n",
       "      <th>Mortgage</th>\n",
       "      <th>Personal Loan</th>\n",
       "      <th>Securities Account</th>\n",
       "      <th>CD Account</th>\n",
       "      <th>Online</th>\n",
       "      <th>CreditCard</th>\n",
       "      <th>ann_CCAvg</th>\n",
       "    </tr>\n",
       "  </thead>\n",
       "  <tbody>\n",
       "    <tr>\n",
       "      <th>0</th>\n",
       "      <td>1</td>\n",
       "      <td>25</td>\n",
       "      <td>1.0</td>\n",
       "      <td>49</td>\n",
       "      <td>91107</td>\n",
       "      <td>4</td>\n",
       "      <td>1</td>\n",
       "      <td>0</td>\n",
       "      <td>0</td>\n",
       "      <td>1</td>\n",
       "      <td>0</td>\n",
       "      <td>0</td>\n",
       "      <td>0</td>\n",
       "      <td>19.2</td>\n",
       "    </tr>\n",
       "    <tr>\n",
       "      <th>1</th>\n",
       "      <td>2</td>\n",
       "      <td>45</td>\n",
       "      <td>19.0</td>\n",
       "      <td>34</td>\n",
       "      <td>90089</td>\n",
       "      <td>3</td>\n",
       "      <td>1</td>\n",
       "      <td>0</td>\n",
       "      <td>0</td>\n",
       "      <td>1</td>\n",
       "      <td>0</td>\n",
       "      <td>0</td>\n",
       "      <td>0</td>\n",
       "      <td>18.0</td>\n",
       "    </tr>\n",
       "    <tr>\n",
       "      <th>2</th>\n",
       "      <td>3</td>\n",
       "      <td>39</td>\n",
       "      <td>15.0</td>\n",
       "      <td>11</td>\n",
       "      <td>94720</td>\n",
       "      <td>1</td>\n",
       "      <td>1</td>\n",
       "      <td>0</td>\n",
       "      <td>0</td>\n",
       "      <td>0</td>\n",
       "      <td>0</td>\n",
       "      <td>0</td>\n",
       "      <td>0</td>\n",
       "      <td>12.0</td>\n",
       "    </tr>\n",
       "    <tr>\n",
       "      <th>3</th>\n",
       "      <td>4</td>\n",
       "      <td>35</td>\n",
       "      <td>9.0</td>\n",
       "      <td>100</td>\n",
       "      <td>94112</td>\n",
       "      <td>1</td>\n",
       "      <td>2</td>\n",
       "      <td>0</td>\n",
       "      <td>0</td>\n",
       "      <td>0</td>\n",
       "      <td>0</td>\n",
       "      <td>0</td>\n",
       "      <td>0</td>\n",
       "      <td>32.4</td>\n",
       "    </tr>\n",
       "    <tr>\n",
       "      <th>4</th>\n",
       "      <td>5</td>\n",
       "      <td>35</td>\n",
       "      <td>8.0</td>\n",
       "      <td>45</td>\n",
       "      <td>91330</td>\n",
       "      <td>4</td>\n",
       "      <td>2</td>\n",
       "      <td>0</td>\n",
       "      <td>0</td>\n",
       "      <td>0</td>\n",
       "      <td>0</td>\n",
       "      <td>0</td>\n",
       "      <td>1</td>\n",
       "      <td>12.0</td>\n",
       "    </tr>\n",
       "    <tr>\n",
       "      <th>...</th>\n",
       "      <td>...</td>\n",
       "      <td>...</td>\n",
       "      <td>...</td>\n",
       "      <td>...</td>\n",
       "      <td>...</td>\n",
       "      <td>...</td>\n",
       "      <td>...</td>\n",
       "      <td>...</td>\n",
       "      <td>...</td>\n",
       "      <td>...</td>\n",
       "      <td>...</td>\n",
       "      <td>...</td>\n",
       "      <td>...</td>\n",
       "      <td>...</td>\n",
       "    </tr>\n",
       "    <tr>\n",
       "      <th>4995</th>\n",
       "      <td>4996</td>\n",
       "      <td>29</td>\n",
       "      <td>3.0</td>\n",
       "      <td>40</td>\n",
       "      <td>92697</td>\n",
       "      <td>1</td>\n",
       "      <td>3</td>\n",
       "      <td>0</td>\n",
       "      <td>0</td>\n",
       "      <td>0</td>\n",
       "      <td>0</td>\n",
       "      <td>1</td>\n",
       "      <td>0</td>\n",
       "      <td>22.8</td>\n",
       "    </tr>\n",
       "    <tr>\n",
       "      <th>4996</th>\n",
       "      <td>4997</td>\n",
       "      <td>30</td>\n",
       "      <td>4.0</td>\n",
       "      <td>15</td>\n",
       "      <td>92037</td>\n",
       "      <td>4</td>\n",
       "      <td>1</td>\n",
       "      <td>85</td>\n",
       "      <td>0</td>\n",
       "      <td>0</td>\n",
       "      <td>0</td>\n",
       "      <td>1</td>\n",
       "      <td>0</td>\n",
       "      <td>4.8</td>\n",
       "    </tr>\n",
       "    <tr>\n",
       "      <th>4997</th>\n",
       "      <td>4998</td>\n",
       "      <td>63</td>\n",
       "      <td>39.0</td>\n",
       "      <td>24</td>\n",
       "      <td>93023</td>\n",
       "      <td>2</td>\n",
       "      <td>3</td>\n",
       "      <td>0</td>\n",
       "      <td>0</td>\n",
       "      <td>0</td>\n",
       "      <td>0</td>\n",
       "      <td>0</td>\n",
       "      <td>0</td>\n",
       "      <td>3.6</td>\n",
       "    </tr>\n",
       "    <tr>\n",
       "      <th>4998</th>\n",
       "      <td>4999</td>\n",
       "      <td>65</td>\n",
       "      <td>40.0</td>\n",
       "      <td>49</td>\n",
       "      <td>90034</td>\n",
       "      <td>3</td>\n",
       "      <td>2</td>\n",
       "      <td>0</td>\n",
       "      <td>0</td>\n",
       "      <td>0</td>\n",
       "      <td>0</td>\n",
       "      <td>1</td>\n",
       "      <td>0</td>\n",
       "      <td>6.0</td>\n",
       "    </tr>\n",
       "    <tr>\n",
       "      <th>4999</th>\n",
       "      <td>5000</td>\n",
       "      <td>28</td>\n",
       "      <td>4.0</td>\n",
       "      <td>83</td>\n",
       "      <td>92612</td>\n",
       "      <td>3</td>\n",
       "      <td>1</td>\n",
       "      <td>0</td>\n",
       "      <td>0</td>\n",
       "      <td>0</td>\n",
       "      <td>0</td>\n",
       "      <td>1</td>\n",
       "      <td>1</td>\n",
       "      <td>9.6</td>\n",
       "    </tr>\n",
       "  </tbody>\n",
       "</table>\n",
       "<p>5000 rows × 14 columns</p>\n",
       "</div>"
      ],
      "text/plain": [
       "        ID  Age  Experience  Income  ZIP Code  Family  Education  Mortgage  \\\n",
       "0        1   25         1.0      49     91107       4          1         0   \n",
       "1        2   45        19.0      34     90089       3          1         0   \n",
       "2        3   39        15.0      11     94720       1          1         0   \n",
       "3        4   35         9.0     100     94112       1          2         0   \n",
       "4        5   35         8.0      45     91330       4          2         0   \n",
       "...    ...  ...         ...     ...       ...     ...        ...       ...   \n",
       "4995  4996   29         3.0      40     92697       1          3         0   \n",
       "4996  4997   30         4.0      15     92037       4          1        85   \n",
       "4997  4998   63        39.0      24     93023       2          3         0   \n",
       "4998  4999   65        40.0      49     90034       3          2         0   \n",
       "4999  5000   28         4.0      83     92612       3          1         0   \n",
       "\n",
       "      Personal Loan  Securities Account  CD Account  Online  CreditCard  \\\n",
       "0                 0                   1           0       0           0   \n",
       "1                 0                   1           0       0           0   \n",
       "2                 0                   0           0       0           0   \n",
       "3                 0                   0           0       0           0   \n",
       "4                 0                   0           0       0           1   \n",
       "...             ...                 ...         ...     ...         ...   \n",
       "4995              0                   0           0       1           0   \n",
       "4996              0                   0           0       1           0   \n",
       "4997              0                   0           0       0           0   \n",
       "4998              0                   0           0       1           0   \n",
       "4999              0                   0           0       1           1   \n",
       "\n",
       "      ann_CCAvg  \n",
       "0          19.2  \n",
       "1          18.0  \n",
       "2          12.0  \n",
       "3          32.4  \n",
       "4          12.0  \n",
       "...         ...  \n",
       "4995       22.8  \n",
       "4996        4.8  \n",
       "4997        3.6  \n",
       "4998        6.0  \n",
       "4999        9.6  \n",
       "\n",
       "[5000 rows x 14 columns]"
      ]
     },
     "execution_count": 62,
     "metadata": {},
     "output_type": "execute_result"
    }
   ],
   "source": [
    "annual=data['CCAvg']*12\n",
    "data['ann_CCAvg'] = annual\n",
    "data.drop('CCAvg', axis=1, inplace=True)\n",
    "data"
   ]
  },
  {
   "cell_type": "code",
   "execution_count": 7,
   "id": "74518605-20ae-459e-81fb-da3dc5492420",
   "metadata": {},
   "outputs": [
    {
     "data": {
      "text/plain": [
       "<seaborn.axisgrid.JointGrid at 0x1904c4df430>"
      ]
     },
     "execution_count": 7,
     "metadata": {},
     "output_type": "execute_result"
    },
    {
     "data": {
      "image/png": "[encoded data removed]",
      "text/plain": [
       "<Figure size 432x432 with 3 Axes>"
      ]
     },
     "metadata": {
      "needs_background": "light"
     },
     "output_type": "display_data"
    }
   ],
   "source": [
    "sns.jointplot(x='ann_CCAvg',y='Income', hue='Personal Loan' , data=data,kind='scatter')"
   ]
  },
  {
   "cell_type": "code",
   "execution_count": 63,
   "id": "e17c454b-08fb-48c3-9f04-8b6aa64f43db",
   "metadata": {},
   "outputs": [
    {
     "data": {
      "text/html": [
       "<div>\n",
       "<style scoped>\n",
       "    .dataframe tbody tr th:only-of-type {\n",
       "        vertical-align: middle;\n",
       "    }\n",
       "\n",
       "    .dataframe tbody tr th {\n",
       "        vertical-align: top;\n",
       "    }\n",
       "\n",
       "    .dataframe thead th {\n",
       "        text-align: right;\n",
       "    }\n",
       "</style>\n",
       "<table border=\"1\" class=\"dataframe\">\n",
       "  <thead>\n",
       "    <tr style=\"text-align: right;\">\n",
       "      <th></th>\n",
       "      <th>Age</th>\n",
       "      <th>Experience</th>\n",
       "      <th>Income</th>\n",
       "      <th>Family</th>\n",
       "      <th>Education</th>\n",
       "      <th>Mortgage</th>\n",
       "      <th>Personal Loan</th>\n",
       "      <th>Securities Account</th>\n",
       "      <th>CD Account</th>\n",
       "      <th>Online</th>\n",
       "      <th>CreditCard</th>\n",
       "      <th>ann_CCAvg</th>\n",
       "    </tr>\n",
       "  </thead>\n",
       "  <tbody>\n",
       "    <tr>\n",
       "      <th>0</th>\n",
       "      <td>25</td>\n",
       "      <td>1.0</td>\n",
       "      <td>49</td>\n",
       "      <td>4</td>\n",
       "      <td>1</td>\n",
       "      <td>0</td>\n",
       "      <td>0</td>\n",
       "      <td>1</td>\n",
       "      <td>0</td>\n",
       "      <td>0</td>\n",
       "      <td>0</td>\n",
       "      <td>19.2</td>\n",
       "    </tr>\n",
       "    <tr>\n",
       "      <th>1</th>\n",
       "      <td>45</td>\n",
       "      <td>19.0</td>\n",
       "      <td>34</td>\n",
       "      <td>3</td>\n",
       "      <td>1</td>\n",
       "      <td>0</td>\n",
       "      <td>0</td>\n",
       "      <td>1</td>\n",
       "      <td>0</td>\n",
       "      <td>0</td>\n",
       "      <td>0</td>\n",
       "      <td>18.0</td>\n",
       "    </tr>\n",
       "    <tr>\n",
       "      <th>2</th>\n",
       "      <td>39</td>\n",
       "      <td>15.0</td>\n",
       "      <td>11</td>\n",
       "      <td>1</td>\n",
       "      <td>1</td>\n",
       "      <td>0</td>\n",
       "      <td>0</td>\n",
       "      <td>0</td>\n",
       "      <td>0</td>\n",
       "      <td>0</td>\n",
       "      <td>0</td>\n",
       "      <td>12.0</td>\n",
       "    </tr>\n",
       "    <tr>\n",
       "      <th>3</th>\n",
       "      <td>35</td>\n",
       "      <td>9.0</td>\n",
       "      <td>100</td>\n",
       "      <td>1</td>\n",
       "      <td>2</td>\n",
       "      <td>0</td>\n",
       "      <td>0</td>\n",
       "      <td>0</td>\n",
       "      <td>0</td>\n",
       "      <td>0</td>\n",
       "      <td>0</td>\n",
       "      <td>32.4</td>\n",
       "    </tr>\n",
       "    <tr>\n",
       "      <th>4</th>\n",
       "      <td>35</td>\n",
       "      <td>8.0</td>\n",
       "      <td>45</td>\n",
       "      <td>4</td>\n",
       "      <td>2</td>\n",
       "      <td>0</td>\n",
       "      <td>0</td>\n",
       "      <td>0</td>\n",
       "      <td>0</td>\n",
       "      <td>0</td>\n",
       "      <td>1</td>\n",
       "      <td>12.0</td>\n",
       "    </tr>\n",
       "    <tr>\n",
       "      <th>...</th>\n",
       "      <td>...</td>\n",
       "      <td>...</td>\n",
       "      <td>...</td>\n",
       "      <td>...</td>\n",
       "      <td>...</td>\n",
       "      <td>...</td>\n",
       "      <td>...</td>\n",
       "      <td>...</td>\n",
       "      <td>...</td>\n",
       "      <td>...</td>\n",
       "      <td>...</td>\n",
       "      <td>...</td>\n",
       "    </tr>\n",
       "    <tr>\n",
       "      <th>4995</th>\n",
       "      <td>29</td>\n",
       "      <td>3.0</td>\n",
       "      <td>40</td>\n",
       "      <td>1</td>\n",
       "      <td>3</td>\n",
       "      <td>0</td>\n",
       "      <td>0</td>\n",
       "      <td>0</td>\n",
       "      <td>0</td>\n",
       "      <td>1</td>\n",
       "      <td>0</td>\n",
       "      <td>22.8</td>\n",
       "    </tr>\n",
       "    <tr>\n",
       "      <th>4996</th>\n",
       "      <td>30</td>\n",
       "      <td>4.0</td>\n",
       "      <td>15</td>\n",
       "      <td>4</td>\n",
       "      <td>1</td>\n",
       "      <td>85</td>\n",
       "      <td>0</td>\n",
       "      <td>0</td>\n",
       "      <td>0</td>\n",
       "      <td>1</td>\n",
       "      <td>0</td>\n",
       "      <td>4.8</td>\n",
       "    </tr>\n",
       "    <tr>\n",
       "      <th>4997</th>\n",
       "      <td>63</td>\n",
       "      <td>39.0</td>\n",
       "      <td>24</td>\n",
       "      <td>2</td>\n",
       "      <td>3</td>\n",
       "      <td>0</td>\n",
       "      <td>0</td>\n",
       "      <td>0</td>\n",
       "      <td>0</td>\n",
       "      <td>0</td>\n",
       "      <td>0</td>\n",
       "      <td>3.6</td>\n",
       "    </tr>\n",
       "    <tr>\n",
       "      <th>4998</th>\n",
       "      <td>65</td>\n",
       "      <td>40.0</td>\n",
       "      <td>49</td>\n",
       "      <td>3</td>\n",
       "      <td>2</td>\n",
       "      <td>0</td>\n",
       "      <td>0</td>\n",
       "      <td>0</td>\n",
       "      <td>0</td>\n",
       "      <td>1</td>\n",
       "      <td>0</td>\n",
       "      <td>6.0</td>\n",
       "    </tr>\n",
       "    <tr>\n",
       "      <th>4999</th>\n",
       "      <td>28</td>\n",
       "      <td>4.0</td>\n",
       "      <td>83</td>\n",
       "      <td>3</td>\n",
       "      <td>1</td>\n",
       "      <td>0</td>\n",
       "      <td>0</td>\n",
       "      <td>0</td>\n",
       "      <td>0</td>\n",
       "      <td>1</td>\n",
       "      <td>1</td>\n",
       "      <td>9.6</td>\n",
       "    </tr>\n",
       "  </tbody>\n",
       "</table>\n",
       "<p>5000 rows × 12 columns</p>\n",
       "</div>"
      ],
      "text/plain": [
       "      Age  Experience  Income  Family  Education  Mortgage  Personal Loan  \\\n",
       "0      25         1.0      49       4          1         0              0   \n",
       "1      45        19.0      34       3          1         0              0   \n",
       "2      39        15.0      11       1          1         0              0   \n",
       "3      35         9.0     100       1          2         0              0   \n",
       "4      35         8.0      45       4          2         0              0   \n",
       "...   ...         ...     ...     ...        ...       ...            ...   \n",
       "4995   29         3.0      40       1          3         0              0   \n",
       "4996   30         4.0      15       4          1        85              0   \n",
       "4997   63        39.0      24       2          3         0              0   \n",
       "4998   65        40.0      49       3          2         0              0   \n",
       "4999   28         4.0      83       3          1         0              0   \n",
       "\n",
       "      Securities Account  CD Account  Online  CreditCard  ann_CCAvg  \n",
       "0                      1           0       0           0       19.2  \n",
       "1                      1           0       0           0       18.0  \n",
       "2                      0           0       0           0       12.0  \n",
       "3                      0           0       0           0       32.4  \n",
       "4                      0           0       0           1       12.0  \n",
       "...                  ...         ...     ...         ...        ...  \n",
       "4995                   0           0       1           0       22.8  \n",
       "4996                   0           0       1           0        4.8  \n",
       "4997                   0           0       0           0        3.6  \n",
       "4998                   0           0       1           0        6.0  \n",
       "4999                   0           0       1           1        9.6  \n",
       "\n",
       "[5000 rows x 12 columns]"
      ]
     },
     "execution_count": 63,
     "metadata": {},
     "output_type": "execute_result"
    }
   ],
   "source": [
    "data.drop(['ID', 'ZIP Code'], axis = 1, inplace=True) \n",
    "data"
   ]
  },
  {
   "cell_type": "code",
   "execution_count": 141,
   "id": "97fbc460-9b37-40dd-8a2e-193a28d34095",
   "metadata": {},
   "outputs": [
    {
     "data": {
      "image/png": "[encoded data removed]",
      "text/plain": [
       "<Figure size 1152x864 with 12 Axes>"
      ]
     },
     "metadata": {
      "needs_background": "light"
     },
     "output_type": "display_data"
    }
   ],
   "source": [
    "data.hist(bins=10 ,figsize=(16,12), color = 'Green')\n",
    "plt.show()"
   ]
  },
  {
   "cell_type": "code",
   "execution_count": 64,
   "id": "4f140ab0-ba6b-4438-9af3-320bf8c0b41a",
   "metadata": {},
   "outputs": [
    {
     "data": {
      "text/html": [
       "<div>\n",
       "<style scoped>\n",
       "    .dataframe tbody tr th:only-of-type {\n",
       "        vertical-align: middle;\n",
       "    }\n",
       "\n",
       "    .dataframe tbody tr th {\n",
       "        vertical-align: top;\n",
       "    }\n",
       "\n",
       "    .dataframe thead th {\n",
       "        text-align: right;\n",
       "    }\n",
       "</style>\n",
       "<table border=\"1\" class=\"dataframe\">\n",
       "  <thead>\n",
       "    <tr style=\"text-align: right;\">\n",
       "      <th></th>\n",
       "      <th>Personal Loan</th>\n",
       "      <th>ann_CCAvg</th>\n",
       "      <th>Mortgage</th>\n",
       "      <th>Securities Account</th>\n",
       "      <th>CD Account</th>\n",
       "      <th>Online</th>\n",
       "      <th>CreditCard</th>\n",
       "    </tr>\n",
       "  </thead>\n",
       "  <tbody>\n",
       "    <tr>\n",
       "      <th>0</th>\n",
       "      <td>0</td>\n",
       "      <td>19.2</td>\n",
       "      <td>0</td>\n",
       "      <td>1</td>\n",
       "      <td>0</td>\n",
       "      <td>0</td>\n",
       "      <td>0</td>\n",
       "    </tr>\n",
       "    <tr>\n",
       "      <th>1</th>\n",
       "      <td>0</td>\n",
       "      <td>18.0</td>\n",
       "      <td>0</td>\n",
       "      <td>1</td>\n",
       "      <td>0</td>\n",
       "      <td>0</td>\n",
       "      <td>0</td>\n",
       "    </tr>\n",
       "    <tr>\n",
       "      <th>2</th>\n",
       "      <td>0</td>\n",
       "      <td>12.0</td>\n",
       "      <td>0</td>\n",
       "      <td>0</td>\n",
       "      <td>0</td>\n",
       "      <td>0</td>\n",
       "      <td>0</td>\n",
       "    </tr>\n",
       "    <tr>\n",
       "      <th>3</th>\n",
       "      <td>0</td>\n",
       "      <td>32.4</td>\n",
       "      <td>0</td>\n",
       "      <td>0</td>\n",
       "      <td>0</td>\n",
       "      <td>0</td>\n",
       "      <td>0</td>\n",
       "    </tr>\n",
       "    <tr>\n",
       "      <th>4</th>\n",
       "      <td>0</td>\n",
       "      <td>12.0</td>\n",
       "      <td>0</td>\n",
       "      <td>0</td>\n",
       "      <td>0</td>\n",
       "      <td>0</td>\n",
       "      <td>1</td>\n",
       "    </tr>\n",
       "    <tr>\n",
       "      <th>...</th>\n",
       "      <td>...</td>\n",
       "      <td>...</td>\n",
       "      <td>...</td>\n",
       "      <td>...</td>\n",
       "      <td>...</td>\n",
       "      <td>...</td>\n",
       "      <td>...</td>\n",
       "    </tr>\n",
       "    <tr>\n",
       "      <th>4995</th>\n",
       "      <td>0</td>\n",
       "      <td>22.8</td>\n",
       "      <td>0</td>\n",
       "      <td>0</td>\n",
       "      <td>0</td>\n",
       "      <td>1</td>\n",
       "      <td>0</td>\n",
       "    </tr>\n",
       "    <tr>\n",
       "      <th>4996</th>\n",
       "      <td>0</td>\n",
       "      <td>4.8</td>\n",
       "      <td>85</td>\n",
       "      <td>0</td>\n",
       "      <td>0</td>\n",
       "      <td>1</td>\n",
       "      <td>0</td>\n",
       "    </tr>\n",
       "    <tr>\n",
       "      <th>4997</th>\n",
       "      <td>0</td>\n",
       "      <td>3.6</td>\n",
       "      <td>0</td>\n",
       "      <td>0</td>\n",
       "      <td>0</td>\n",
       "      <td>0</td>\n",
       "      <td>0</td>\n",
       "    </tr>\n",
       "    <tr>\n",
       "      <th>4998</th>\n",
       "      <td>0</td>\n",
       "      <td>6.0</td>\n",
       "      <td>0</td>\n",
       "      <td>0</td>\n",
       "      <td>0</td>\n",
       "      <td>1</td>\n",
       "      <td>0</td>\n",
       "    </tr>\n",
       "    <tr>\n",
       "      <th>4999</th>\n",
       "      <td>0</td>\n",
       "      <td>9.6</td>\n",
       "      <td>0</td>\n",
       "      <td>0</td>\n",
       "      <td>0</td>\n",
       "      <td>1</td>\n",
       "      <td>1</td>\n",
       "    </tr>\n",
       "  </tbody>\n",
       "</table>\n",
       "<p>5000 rows × 7 columns</p>\n",
       "</div>"
      ],
      "text/plain": [
       "      Personal Loan  ann_CCAvg  Mortgage  Securities Account  CD Account  \\\n",
       "0                 0       19.2         0                   1           0   \n",
       "1                 0       18.0         0                   1           0   \n",
       "2                 0       12.0         0                   0           0   \n",
       "3                 0       32.4         0                   0           0   \n",
       "4                 0       12.0         0                   0           0   \n",
       "...             ...        ...       ...                 ...         ...   \n",
       "4995              0       22.8         0                   0           0   \n",
       "4996              0        4.8        85                   0           0   \n",
       "4997              0        3.6         0                   0           0   \n",
       "4998              0        6.0         0                   0           0   \n",
       "4999              0        9.6         0                   0           0   \n",
       "\n",
       "      Online  CreditCard  \n",
       "0          0           0  \n",
       "1          0           0  \n",
       "2          0           0  \n",
       "3          0           0  \n",
       "4          0           1  \n",
       "...      ...         ...  \n",
       "4995       1           0  \n",
       "4996       1           0  \n",
       "4997       0           0  \n",
       "4998       1           0  \n",
       "4999       1           1  \n",
       "\n",
       "[5000 rows x 7 columns]"
      ]
     },
     "execution_count": 64,
     "metadata": {},
     "output_type": "execute_result"
    }
   ],
   "source": [
    "bank_rel = data[['Personal Loan','ann_CCAvg','Mortgage','Securities Account','CD Account','Online','CreditCard']]\n",
    "bank_rel"
   ]
  },
  {
   "cell_type": "code",
   "execution_count": 65,
   "id": "05f94c4c-8b73-4e03-8b88-ee4071502bc7",
   "metadata": {},
   "outputs": [
    {
     "data": {
      "text/html": [
       "<div>\n",
       "<style scoped>\n",
       "    .dataframe tbody tr th:only-of-type {\n",
       "        vertical-align: middle;\n",
       "    }\n",
       "\n",
       "    .dataframe tbody tr th {\n",
       "        vertical-align: top;\n",
       "    }\n",
       "\n",
       "    .dataframe thead th {\n",
       "        text-align: right;\n",
       "    }\n",
       "</style>\n",
       "<table border=\"1\" class=\"dataframe\">\n",
       "  <thead>\n",
       "    <tr style=\"text-align: right;\">\n",
       "      <th></th>\n",
       "      <th>Personal Loan</th>\n",
       "      <th>Age</th>\n",
       "      <th>Education</th>\n",
       "      <th>Experience</th>\n",
       "      <th>Income</th>\n",
       "    </tr>\n",
       "  </thead>\n",
       "  <tbody>\n",
       "    <tr>\n",
       "      <th>0</th>\n",
       "      <td>0</td>\n",
       "      <td>25</td>\n",
       "      <td>1</td>\n",
       "      <td>1.0</td>\n",
       "      <td>49</td>\n",
       "    </tr>\n",
       "    <tr>\n",
       "      <th>1</th>\n",
       "      <td>0</td>\n",
       "      <td>45</td>\n",
       "      <td>1</td>\n",
       "      <td>19.0</td>\n",
       "      <td>34</td>\n",
       "    </tr>\n",
       "    <tr>\n",
       "      <th>2</th>\n",
       "      <td>0</td>\n",
       "      <td>39</td>\n",
       "      <td>1</td>\n",
       "      <td>15.0</td>\n",
       "      <td>11</td>\n",
       "    </tr>\n",
       "    <tr>\n",
       "      <th>3</th>\n",
       "      <td>0</td>\n",
       "      <td>35</td>\n",
       "      <td>2</td>\n",
       "      <td>9.0</td>\n",
       "      <td>100</td>\n",
       "    </tr>\n",
       "    <tr>\n",
       "      <th>4</th>\n",
       "      <td>0</td>\n",
       "      <td>35</td>\n",
       "      <td>2</td>\n",
       "      <td>8.0</td>\n",
       "      <td>45</td>\n",
       "    </tr>\n",
       "    <tr>\n",
       "      <th>...</th>\n",
       "      <td>...</td>\n",
       "      <td>...</td>\n",
       "      <td>...</td>\n",
       "      <td>...</td>\n",
       "      <td>...</td>\n",
       "    </tr>\n",
       "    <tr>\n",
       "      <th>4995</th>\n",
       "      <td>0</td>\n",
       "      <td>29</td>\n",
       "      <td>3</td>\n",
       "      <td>3.0</td>\n",
       "      <td>40</td>\n",
       "    </tr>\n",
       "    <tr>\n",
       "      <th>4996</th>\n",
       "      <td>0</td>\n",
       "      <td>30</td>\n",
       "      <td>1</td>\n",
       "      <td>4.0</td>\n",
       "      <td>15</td>\n",
       "    </tr>\n",
       "    <tr>\n",
       "      <th>4997</th>\n",
       "      <td>0</td>\n",
       "      <td>63</td>\n",
       "      <td>3</td>\n",
       "      <td>39.0</td>\n",
       "      <td>24</td>\n",
       "    </tr>\n",
       "    <tr>\n",
       "      <th>4998</th>\n",
       "      <td>0</td>\n",
       "      <td>65</td>\n",
       "      <td>2</td>\n",
       "      <td>40.0</td>\n",
       "      <td>49</td>\n",
       "    </tr>\n",
       "    <tr>\n",
       "      <th>4999</th>\n",
       "      <td>0</td>\n",
       "      <td>28</td>\n",
       "      <td>1</td>\n",
       "      <td>4.0</td>\n",
       "      <td>83</td>\n",
       "    </tr>\n",
       "  </tbody>\n",
       "</table>\n",
       "<p>5000 rows × 5 columns</p>\n",
       "</div>"
      ],
      "text/plain": [
       "      Personal Loan  Age  Education  Experience  Income\n",
       "0                 0   25          1         1.0      49\n",
       "1                 0   45          1        19.0      34\n",
       "2                 0   39          1        15.0      11\n",
       "3                 0   35          2         9.0     100\n",
       "4                 0   35          2         8.0      45\n",
       "...             ...  ...        ...         ...     ...\n",
       "4995              0   29          3         3.0      40\n",
       "4996              0   30          1         4.0      15\n",
       "4997              0   63          3        39.0      24\n",
       "4998              0   65          2        40.0      49\n",
       "4999              0   28          1         4.0      83\n",
       "\n",
       "[5000 rows x 5 columns]"
      ]
     },
     "execution_count": 65,
     "metadata": {},
     "output_type": "execute_result"
    }
   ],
   "source": [
    "cust_att=data[['Personal Loan','Age','Education','Experience','Income']]\n",
    "cust_att"
   ]
  },
  {
   "cell_type": "code",
   "execution_count": 66,
   "id": "4ac1067f-95bd-47e5-9cab-c879746015c6",
   "metadata": {},
   "outputs": [
    {
     "data": {
      "text/plain": [
       "Age                   0\n",
       "Experience            0\n",
       "Income                0\n",
       "Family                0\n",
       "Education             0\n",
       "Mortgage              0\n",
       "Personal Loan         0\n",
       "Securities Account    0\n",
       "CD Account            0\n",
       "Online                0\n",
       "CreditCard            0\n",
       "ann_CCAvg             0\n",
       "dtype: int64"
      ]
     },
     "execution_count": 66,
     "metadata": {},
     "output_type": "execute_result"
    }
   ],
   "source": [
    "data.isnull().sum()"
   ]
  },
  {
   "cell_type": "markdown",
   "id": "cf867693-5248-4d86-9d42-acbf5a5d1bbe",
   "metadata": {},
   "source": [
    "## Spliting the data into training and test set in the ratio of 70:30 for my 3 samples"
   ]
  },
  {
   "cell_type": "code",
   "execution_count": 111,
   "id": "6a4b3576-edbb-48aa-8e96-eea878dd73cf",
   "metadata": {},
   "outputs": [
    {
     "name": "stdout",
     "output_type": "stream",
     "text": [
      "x train bank_rel (3500, 6)\n",
      "y train bank_rel (3500, 1)\n",
      "x test bank_rel  (1500, 6)\n",
      "y test bank_rel  (1500, 1)\n"
     ]
    }
   ],
   "source": [
    "#Sample 1 - bank_rel\n",
    "from sklearn.model_selection import train_test_split\n",
    "X_bank = bank_rel.drop('Personal Loan',axis=1).values\n",
    "Y_bank = bank_rel['Personal Loan'].values.reshape((-1,1))\n",
    "X_bank_train, X_bank_test, y_bank_train, y_bank_test = train_test_split(X_bank, Y_bank, test_size=0.30, random_state=1)\n",
    "print('x train bank_rel {}'.format(X_bank_train.shape))\n",
    "print('y train bank_rel {}'.format(y_bank_train.shape))\n",
    "print('x test bank_rel  {}'.format(X_bank_test.shape))\n",
    "print('y test bank_rel  {}'.format(y_bank_test.shape))"
   ]
  },
  {
   "cell_type": "code",
   "execution_count": 112,
   "id": "8b4bac5b-35b1-4d30-a67e-85501b4bb6ba",
   "metadata": {},
   "outputs": [
    {
     "name": "stdout",
     "output_type": "stream",
     "text": [
      "x train cust_att (3500, 4)\n",
      "y train cust_att (3500, 1)\n",
      "x test cust_att  (1500, 4)\n",
      "y test cust_att  (1500, 1)\n"
     ]
    }
   ],
   "source": [
    "#Sample 2 - cust_att\n",
    "from sklearn.model_selection import train_test_split\n",
    "X_cust = cust_att.drop('Personal Loan',axis=1).values\n",
    "Y_cust = cust_att['Personal Loan'].values.reshape((-1,1))\n",
    "X_cust_train, X_cust_test, y_cust_train, y_cust_test = train_test_split(X_cust, Y_cust, test_size=0.30, random_state=1)\n",
    "print('x train cust_att {}'.format(X_cust_train.shape))\n",
    "print('y train cust_att {}'.format(y_cust_train.shape))\n",
    "print('x test cust_att  {}'.format(X_cust_test.shape))\n",
    "print('y test cust_att  {}'.format(y_cust_test.shape))"
   ]
  },
  {
   "cell_type": "code",
   "execution_count": 113,
   "id": "df251fee-2e09-47f5-9214-5ec1b537b580",
   "metadata": {},
   "outputs": [
    {
     "name": "stdout",
     "output_type": "stream",
     "text": [
      "x train data (3500, 11)\n",
      "y train data (3500, 1)\n",
      "x test data  (1500, 11)\n",
      "y test data  (1500, 1)\n"
     ]
    }
   ],
   "source": [
    "#Sample 3 - whole Data\n",
    "from sklearn.model_selection import train_test_split\n",
    "X = data.drop('Personal Loan',axis=1).values\n",
    "Y = data['Personal Loan'].values.reshape((-1,1))\n",
    "X_train, X_test, y_train, y_test = train_test_split(X, Y, test_size=0.30, random_state=1)\n",
    "print('x train data {}'.format(X_train.shape))\n",
    "print('y train data {}'.format(y_train.shape))\n",
    "print('x test data  {}'.format(X_test.shape))\n",
    "print('y test data  {}'.format(y_test.shape))"
   ]
  },
  {
   "cell_type": "markdown",
   "id": "d652dcc4-8a98-4f7d-b96a-7bc14183fdd2",
   "metadata": {},
   "source": [
    "## Logistic Regression"
   ]
  },
  {
   "cell_type": "code",
   "execution_count": 476,
   "id": "09d41039-b359-4bcc-839e-3d4ee2a591c7",
   "metadata": {},
   "outputs": [],
   "source": [
    "from sklearn.linear_model import LogisticRegression\n",
    "lr=LogisticRegression (C=1.1)"
   ]
  },
  {
   "cell_type": "code",
   "execution_count": 497,
   "id": "525b82aa-298c-4dc4-a007-b246d6dca974",
   "metadata": {},
   "outputs": [
    {
     "name": "stdout",
     "output_type": "stream",
     "text": [
      "0.9157142857142857\n"
     ]
    }
   ],
   "source": [
    "#Sample 1 - bank_rel\n",
    "\n",
    "lr.fit(X_bank_train,y_bank_train)\n",
    "y_bank_pred = lr.predict(X_bank_test)\n",
    "print(lr.score(X_bank_train,y_bank_train))\n",
    "\n"
   ]
  },
  {
   "cell_type": "code",
   "execution_count": 478,
   "id": "ca198227-dfa1-47cd-b9b7-0304aa44c215",
   "metadata": {},
   "outputs": [
    {
     "name": "stdout",
     "output_type": "stream",
     "text": [
      "Logistic Regression Model Accuracy Score Sample 1 - bank_rel : 90.266667\n"
     ]
    }
   ],
   "source": [
    "from sklearn.metrics import accuracy_score\n",
    "\n",
    "logreg_bank_accuracy = accuracy_score(y_bank_test, y_bank_pred)*100\n",
    "print('Logistic Regression Model Accuracy Score Sample 1 - bank_rel : %f'  % logreg_bank_accuracy)"
   ]
  },
  {
   "cell_type": "code",
   "execution_count": 479,
   "id": "c0d54477-48a5-4b97-99f3-abd7320d7201",
   "metadata": {},
   "outputs": [
    {
     "name": "stdout",
     "output_type": "stream",
     "text": [
      "              precision    recall  f1-score   support\n",
      "\n",
      "           0       0.92      0.98      0.95      1351\n",
      "           1       0.52      0.22      0.31       149\n",
      "\n",
      "    accuracy                           0.90      1500\n",
      "   macro avg       0.72      0.60      0.63      1500\n",
      "weighted avg       0.88      0.90      0.88      1500\n",
      "\n"
     ]
    }
   ],
   "source": [
    "print(classification_report(y_bank_test,lr.predict(X_bank_test)))"
   ]
  },
  {
   "cell_type": "code",
   "execution_count": 480,
   "id": "4fc36ffd-9103-406e-892d-2a85a48be8a3",
   "metadata": {},
   "outputs": [
    {
     "name": "stdout",
     "output_type": "stream",
     "text": [
      "0.9437142857142857\n"
     ]
    }
   ],
   "source": [
    "#Sample 2 - cust_att\n",
    "\n",
    "lr.fit(X_cust_train,y_cust_train)\n",
    "y_cust_pred = lr.predict(X_cust_test)\n",
    "print(lr.score(X_cust_train,y_cust_train))\n"
   ]
  },
  {
   "cell_type": "code",
   "execution_count": 481,
   "id": "61982425-1129-4eeb-9ea6-2ba8c1c3715b",
   "metadata": {},
   "outputs": [
    {
     "name": "stdout",
     "output_type": "stream",
     "text": [
      "Logistic Regression Model Accuracy Score Sample 2 - cust_att : 94.266667\n"
     ]
    }
   ],
   "source": [
    "logreg_cust_accuracy = accuracy_score(y_cust_test, y_cust_pred)*100\n",
    "print('Logistic Regression Model Accuracy Score Sample 2 - cust_att : %f'  % logreg_cust_accuracy)"
   ]
  },
  {
   "cell_type": "code",
   "execution_count": 482,
   "id": "a5ff961f-2a72-4893-a61e-5156b3360ff1",
   "metadata": {},
   "outputs": [
    {
     "name": "stdout",
     "output_type": "stream",
     "text": [
      "              precision    recall  f1-score   support\n",
      "\n",
      "           0       0.95      0.99      0.97      1351\n",
      "           1       0.84      0.52      0.64       149\n",
      "\n",
      "    accuracy                           0.94      1500\n",
      "   macro avg       0.89      0.76      0.81      1500\n",
      "weighted avg       0.94      0.94      0.94      1500\n",
      "\n"
     ]
    }
   ],
   "source": [
    "print(classification_report(y_cust_test,lr.predict(X_cust_test)))"
   ]
  },
  {
   "cell_type": "code",
   "execution_count": 483,
   "id": "2a0f0281-4cd6-42ff-b287-e87e9a944fc6",
   "metadata": {},
   "outputs": [
    {
     "name": "stdout",
     "output_type": "stream",
     "text": [
      "0.9354285714285714\n"
     ]
    }
   ],
   "source": [
    "#Sample 3 - whole Data\n",
    "\n",
    "lr.fit(X_train,y_train)\n",
    "y_data_pred = lr.predict(X_test)\n",
    "print(lr.score(X_train,y_train))"
   ]
  },
  {
   "cell_type": "code",
   "execution_count": 484,
   "id": "dd150b92-8051-471d-aafe-9f054cf9282c",
   "metadata": {},
   "outputs": [
    {
     "name": "stdout",
     "output_type": "stream",
     "text": [
      "Logistic Regression Model Accuracy Score Sample 3 - whole Data : 93.333333\n"
     ]
    }
   ],
   "source": [
    "logreg_Data_accuracy = accuracy_score(y_test, y_data_pred)*100\n",
    "print('Logistic Regression Model Accuracy Score Sample 3 - whole Data : %f'  % logreg_Data_accuracy)"
   ]
  },
  {
   "cell_type": "code",
   "execution_count": 485,
   "id": "1c2449ad-f4bb-4fd9-b2a4-0ed2fda8ae4c",
   "metadata": {},
   "outputs": [
    {
     "name": "stdout",
     "output_type": "stream",
     "text": [
      "              precision    recall  f1-score   support\n",
      "\n",
      "           0       0.95      0.98      0.96      1351\n",
      "           1       0.75      0.49      0.59       149\n",
      "\n",
      "    accuracy                           0.93      1500\n",
      "   macro avg       0.85      0.74      0.78      1500\n",
      "weighted avg       0.93      0.93      0.93      1500\n",
      "\n"
     ]
    }
   ],
   "source": [
    "print(classification_report(y_test,lr.predict(X_test)))"
   ]
  },
  {
   "cell_type": "markdown",
   "id": "76217aec-3c3f-484c-9b8f-2790729a5f7b",
   "metadata": {},
   "source": [
    "## it's clear that model with whole data has the highest percentage followed by the customer attribute model due to the high correlation between the customer income and personal loan"
   ]
  },
  {
   "cell_type": "markdown",
   "id": "294b721d-97de-4d1d-b678-78ea28e1af29",
   "metadata": {},
   "source": [
    "# KNN"
   ]
  },
  {
   "cell_type": "code",
   "execution_count": 456,
   "id": "c23bd73b-8eb0-4c5c-9b9b-c112b8d82d97",
   "metadata": {},
   "outputs": [],
   "source": [
    "from sklearn.neighbors import KNeighborsClassifier \n",
    "kclf=KNeighborsClassifier (n_neighbors=5)"
   ]
  },
  {
   "cell_type": "code",
   "execution_count": 457,
   "id": "3a64dbe0-f991-45f6-a17a-eda941eef540",
   "metadata": {},
   "outputs": [
    {
     "name": "stdout",
     "output_type": "stream",
     "text": [
      "0.9294285714285714\n"
     ]
    }
   ],
   "source": [
    "#Sample 1 - bank_rel\n",
    "\n",
    "kclf.fit(X_bank_train,y_bank_train)\n",
    "y_knn_bank_pred = kclf.predict(X_bank_test)\n",
    "print(kclf.score(X_bank_train,y_bank_train))"
   ]
  },
  {
   "cell_type": "code",
   "execution_count": 458,
   "id": "51e6bdec-223d-4107-9db6-4793229cf9d9",
   "metadata": {},
   "outputs": [
    {
     "name": "stdout",
     "output_type": "stream",
     "text": [
      "KNN Model Accuracy Score Sample 1 - bank_rel : 89.600000\n"
     ]
    }
   ],
   "source": [
    "KNN_bank_accuracy = accuracy_score(y_bank_test, y_knn_bank_pred)*100\n",
    "print('KNN Model Accuracy Score Sample 1 - bank_rel : %f'  % KNN_bank_accuracy)"
   ]
  },
  {
   "cell_type": "code",
   "execution_count": 459,
   "id": "c504d78d-c81d-43fc-b9fa-1757ff126e33",
   "metadata": {},
   "outputs": [
    {
     "name": "stdout",
     "output_type": "stream",
     "text": [
      "              precision    recall  f1-score   support\n",
      "\n",
      "           0       0.92      0.97      0.94      1351\n",
      "           1       0.46      0.27      0.34       149\n",
      "\n",
      "    accuracy                           0.90      1500\n",
      "   macro avg       0.69      0.62      0.64      1500\n",
      "weighted avg       0.88      0.90      0.88      1500\n",
      "\n"
     ]
    }
   ],
   "source": [
    "print(classification_report(y_bank_test,kclf.predict(X_bank_test)))"
   ]
  },
  {
   "cell_type": "code",
   "execution_count": 460,
   "id": "8bbb9b37-0500-4511-8c8b-82aa80baaede",
   "metadata": {},
   "outputs": [
    {
     "name": "stdout",
     "output_type": "stream",
     "text": [
      "0.9394285714285714\n"
     ]
    }
   ],
   "source": [
    "#Sample 2 - cust_att\n",
    "\n",
    "kclf.fit(X_cust_train,y_cust_train)\n",
    "y_knn_cust_pred = kclf.predict(X_cust_test)\n",
    "print(kclf.score(X_cust_train,y_cust_train))"
   ]
  },
  {
   "cell_type": "code",
   "execution_count": 461,
   "id": "89ea5bcc-b874-4a6c-be8c-de5b4c770a0c",
   "metadata": {},
   "outputs": [
    {
     "name": "stdout",
     "output_type": "stream",
     "text": [
      "KNN Model Accuracy Score Sample 2 - cust_att : 91.266667\n"
     ]
    }
   ],
   "source": [
    "KNN_cust_accuracy = accuracy_score(y_cust_test, y_knn_cust_pred)*100\n",
    "print('KNN Model Accuracy Score Sample 2 - cust_att : %f'  % KNN_cust_accuracy)"
   ]
  },
  {
   "cell_type": "code",
   "execution_count": 462,
   "id": "4126cb8a-2e0a-496e-a92b-1ba14ca36630",
   "metadata": {},
   "outputs": [
    {
     "name": "stdout",
     "output_type": "stream",
     "text": [
      "              precision    recall  f1-score   support\n",
      "\n",
      "           0       0.93      0.97      0.95      1351\n",
      "           1       0.60      0.36      0.45       149\n",
      "\n",
      "    accuracy                           0.91      1500\n",
      "   macro avg       0.77      0.66      0.70      1500\n",
      "weighted avg       0.90      0.91      0.90      1500\n",
      "\n"
     ]
    }
   ],
   "source": [
    "print(classification_report(y_cust_test,kclf.predict(X_cust_test)))"
   ]
  },
  {
   "cell_type": "code",
   "execution_count": 463,
   "id": "35aa9171-1e69-4a49-bd7b-ad119a23f724",
   "metadata": {},
   "outputs": [
    {
     "name": "stdout",
     "output_type": "stream",
     "text": [
      "0.9394285714285714\n"
     ]
    }
   ],
   "source": [
    "#Sample 3 - whole data\n",
    "\n",
    "kclf.fit(X_train,y_train)\n",
    "y_knn_Data_pred = kclf.predict(X_test)\n",
    "print(kclf.score(X_train,y_train))"
   ]
  },
  {
   "cell_type": "code",
   "execution_count": 464,
   "id": "44e69db7-d0aa-4417-8189-ecd586087510",
   "metadata": {},
   "outputs": [
    {
     "name": "stdout",
     "output_type": "stream",
     "text": [
      "KNN Model Accuracy Score Sample 3 - whole data : 91.333333\n"
     ]
    }
   ],
   "source": [
    "KNN_Data_accuracy = accuracy_score(y_test, y_knn_Data_pred)*100\n",
    "print('KNN Model Accuracy Score Sample 3 - whole data : %f'  % KNN_Data_accuracy)"
   ]
  },
  {
   "cell_type": "code",
   "execution_count": 465,
   "id": "5588bd5b-e0fc-4a07-bc38-f6e48172723c",
   "metadata": {},
   "outputs": [
    {
     "name": "stdout",
     "output_type": "stream",
     "text": [
      "              precision    recall  f1-score   support\n",
      "\n",
      "           0       0.94      0.96      0.95      1351\n",
      "           1       0.58      0.48      0.52       149\n",
      "\n",
      "    accuracy                           0.91      1500\n",
      "   macro avg       0.76      0.72      0.74      1500\n",
      "weighted avg       0.91      0.91      0.91      1500\n",
      "\n"
     ]
    }
   ],
   "source": [
    "print(classification_report(y_test,kclf.predict(X_test)))"
   ]
  },
  {
   "cell_type": "markdown",
   "id": "d1439f6f-37d7-408a-8327-caec596b829b",
   "metadata": {},
   "source": [
    "### It's noticed that the accuracy for KNN Model are almost the same for sample 2 and 3"
   ]
  },
  {
   "cell_type": "markdown",
   "id": "b73e6473-bbd1-4dd0-984e-d8ba817ef412",
   "metadata": {},
   "source": [
    "# Confusion Matrix"
   ]
  },
  {
   "cell_type": "code",
   "execution_count": 144,
   "id": "5cd1c0d4-1809-4083-b202-08d4bd77e6ea",
   "metadata": {},
   "outputs": [],
   "source": [
    "from sklearn.svm import SVC"
   ]
  },
  {
   "cell_type": "markdown",
   "id": "b7335e65-4ae6-4707-acd8-788227452568",
   "metadata": {},
   "source": [
    "### Sample 1 - bank_rel"
   ]
  },
  {
   "cell_type": "code",
   "execution_count": 154,
   "id": "671d0eaa-0689-481d-bfc9-858ded77d7d2",
   "metadata": {},
   "outputs": [
    {
     "name": "stderr",
     "output_type": "stream",
     "text": [
      "C:\\Users\\Lenovo\\anaconda3\\lib\\site-packages\\sklearn\\utils\\validation.py:63: DataConversionWarning: A column-vector y was passed when a 1d array was expected. Please change the shape of y to (n_samples, ), for example using ravel().\n",
      "  return f(*args, **kwargs)\n"
     ]
    },
    {
     "data": {
      "text/plain": [
       "SVC(C=4, kernel='poly')"
      ]
     },
     "execution_count": 154,
     "metadata": {},
     "output_type": "execute_result"
    }
   ],
   "source": [
    "svm = SVC(C=4 , kernel='poly')\n",
    "svm.fit(X_bank_train,y_bank_train)"
   ]
  },
  {
   "cell_type": "code",
   "execution_count": 155,
   "id": "7eb34f13-8179-47a4-90a6-e188be137bfd",
   "metadata": {},
   "outputs": [
    {
     "name": "stdout",
     "output_type": "stream",
     "text": [
      "0.9094285714285715\n",
      "0.9026666666666666\n"
     ]
    }
   ],
   "source": [
    "print(svm.score(X_bank_train,y_bank_train))\n",
    "print(svm.score(X_bank_test,y_bank_test))\n"
   ]
  },
  {
   "cell_type": "code",
   "execution_count": 156,
   "id": "d3e00f32-a13a-4161-92b1-d440827be2fd",
   "metadata": {},
   "outputs": [
    {
     "name": "stdout",
     "output_type": "stream",
     "text": [
      "CM Model Accuracy Score Sample 1 - bank_rel : 90.266667\n"
     ]
    }
   ],
   "source": [
    "y_cm_bank_pred = svm.predict(X_bank_test)\n",
    "CM_bank_accuracy = accuracy_score(y_bank_test, y_cm_bank_pred)*100\n",
    "print('CM Model Accuracy Score Sample 1 - bank_rel : %f'  % CM_bank_accuracy)"
   ]
  },
  {
   "cell_type": "code",
   "execution_count": 157,
   "id": "481e8537-b610-4193-9380-c8cc67ec726a",
   "metadata": {},
   "outputs": [
    {
     "data": {
      "text/plain": [
       "array([[1349,    2],\n",
       "       [ 144,    5]], dtype=int64)"
      ]
     },
     "execution_count": 157,
     "metadata": {},
     "output_type": "execute_result"
    }
   ],
   "source": [
    "from sklearn.metrics import confusion_matrix , classification_report\n",
    "confusion_matrix(y_bank_test,svm.predict(X_bank_test))"
   ]
  },
  {
   "cell_type": "code",
   "execution_count": 158,
   "id": "9c62a2ff-b870-44bd-a45f-0caf5982f63f",
   "metadata": {},
   "outputs": [
    {
     "name": "stdout",
     "output_type": "stream",
     "text": [
      "              precision    recall  f1-score   support\n",
      "\n",
      "           0       0.90      1.00      0.95      1351\n",
      "           1       0.71      0.03      0.06       149\n",
      "\n",
      "    accuracy                           0.90      1500\n",
      "   macro avg       0.81      0.52      0.51      1500\n",
      "weighted avg       0.88      0.90      0.86      1500\n",
      "\n"
     ]
    }
   ],
   "source": [
    "print(classification_report(y_bank_test,svm.predict(X_bank_test)))"
   ]
  },
  {
   "cell_type": "markdown",
   "id": "e8cc8805-0829-43d6-b402-57ee3f330bf1",
   "metadata": {},
   "source": [
    "### Sample 2 - cust_att"
   ]
  },
  {
   "cell_type": "code",
   "execution_count": 180,
   "id": "22e22630-a444-494f-8763-28ec14981a84",
   "metadata": {},
   "outputs": [
    {
     "name": "stderr",
     "output_type": "stream",
     "text": [
      "C:\\Users\\Lenovo\\anaconda3\\lib\\site-packages\\sklearn\\utils\\validation.py:63: DataConversionWarning: A column-vector y was passed when a 1d array was expected. Please change the shape of y to (n_samples, ), for example using ravel().\n",
      "  return f(*args, **kwargs)\n"
     ]
    },
    {
     "data": {
      "text/plain": [
       "SVC(C=4, kernel='linear')"
      ]
     },
     "execution_count": 180,
     "metadata": {},
     "output_type": "execute_result"
    }
   ],
   "source": [
    "svm = SVC(C=4 , kernel='linear')\n",
    "svm.fit(X_cust_train,y_cust_train)"
   ]
  },
  {
   "cell_type": "code",
   "execution_count": 181,
   "id": "98454c23-e990-4c63-9b21-e7215081a2a3",
   "metadata": {},
   "outputs": [
    {
     "name": "stdout",
     "output_type": "stream",
     "text": [
      "0.9445714285714286\n",
      "0.9466666666666667\n"
     ]
    }
   ],
   "source": [
    "print(svm.score(X_cust_train,y_cust_train))\n",
    "print(svm.score(X_cust_test,y_cust_test))\n"
   ]
  },
  {
   "cell_type": "code",
   "execution_count": 182,
   "id": "768dafc5-97e0-4f80-b482-0bebb186b1fc",
   "metadata": {},
   "outputs": [
    {
     "name": "stdout",
     "output_type": "stream",
     "text": [
      "CM Model Accuracy Score Sample 2 - cust_att : 94.666667\n"
     ]
    }
   ],
   "source": [
    "y_cm_cust_pred = svm.predict(X_cust_test)\n",
    "CM_cust_accuracy = accuracy_score(y_cust_test, y_cm_cust_pred)*100\n",
    "print('CM Model Accuracy Score Sample 2 - cust_att : %f'  % CM_cust_accuracy)"
   ]
  },
  {
   "cell_type": "code",
   "execution_count": 170,
   "id": "a815dccf-0710-4575-8ec2-b7307de1f798",
   "metadata": {},
   "outputs": [
    {
     "data": {
      "text/plain": [
       "array([[1343,    8],\n",
       "       [  72,   77]], dtype=int64)"
      ]
     },
     "execution_count": 170,
     "metadata": {},
     "output_type": "execute_result"
    }
   ],
   "source": [
    "from sklearn.metrics import confusion_matrix , classification_report\n",
    "confusion_matrix(y_cust_test,svm.predict(X_cust_test))"
   ]
  },
  {
   "cell_type": "code",
   "execution_count": 171,
   "id": "d16aca6a-5255-4614-9bef-4fb0e3aca254",
   "metadata": {},
   "outputs": [
    {
     "name": "stdout",
     "output_type": "stream",
     "text": [
      "              precision    recall  f1-score   support\n",
      "\n",
      "           0       0.95      0.99      0.97      1351\n",
      "           1       0.91      0.52      0.66       149\n",
      "\n",
      "    accuracy                           0.95      1500\n",
      "   macro avg       0.93      0.76      0.81      1500\n",
      "weighted avg       0.94      0.95      0.94      1500\n",
      "\n"
     ]
    }
   ],
   "source": [
    "print(classification_report(y_cust_test,svm.predict(X_cust_test)))"
   ]
  },
  {
   "cell_type": "markdown",
   "id": "9c04ba50-6214-4c77-b119-9cea9ab1ff5d",
   "metadata": {},
   "source": [
    "### Sample 3 - whole Data"
   ]
  },
  {
   "cell_type": "code",
   "execution_count": 173,
   "id": "e7b0283c-8ee7-490e-8a43-a3d2bde0a758",
   "metadata": {},
   "outputs": [
    {
     "name": "stderr",
     "output_type": "stream",
     "text": [
      "C:\\Users\\Lenovo\\anaconda3\\lib\\site-packages\\sklearn\\utils\\validation.py:63: DataConversionWarning: A column-vector y was passed when a 1d array was expected. Please change the shape of y to (n_samples, ), for example using ravel().\n",
      "  return f(*args, **kwargs)\n"
     ]
    },
    {
     "data": {
      "text/plain": [
       "SVC(C=4, kernel='linear')"
      ]
     },
     "execution_count": 173,
     "metadata": {},
     "output_type": "execute_result"
    }
   ],
   "source": [
    "svm = SVC(C=4 , kernel='linear')\n",
    "svm.fit(X_train,y_train)"
   ]
  },
  {
   "cell_type": "code",
   "execution_count": 174,
   "id": "8aaccaf2-5650-4405-91fa-8e1e9dfda40a",
   "metadata": {},
   "outputs": [
    {
     "name": "stdout",
     "output_type": "stream",
     "text": [
      "0.9545714285714286\n",
      "0.9486666666666667\n"
     ]
    }
   ],
   "source": [
    "print(svm.score(X_train,y_train))\n",
    "print(svm.score(X_test,y_test))"
   ]
  },
  {
   "cell_type": "code",
   "execution_count": 176,
   "id": "46602780-958b-413f-822a-abcc03cb8529",
   "metadata": {},
   "outputs": [
    {
     "name": "stdout",
     "output_type": "stream",
     "text": [
      "CM Model Accuracy Score Sample 3 - whole data : 94.866667\n"
     ]
    }
   ],
   "source": [
    "y_cm_data_pred = svm.predict(X_test)\n",
    "CM_data_accuracy = accuracy_score(y_test, y_cm_data_pred)*100\n",
    "print('CM Model Accuracy Score Sample 3 - whole data : %f'  % CM_data_accuracy)"
   ]
  },
  {
   "cell_type": "code",
   "execution_count": 177,
   "id": "3dc4b826-51ae-48ea-a4b7-5f5a20481bd4",
   "metadata": {},
   "outputs": [
    {
     "data": {
      "text/plain": [
       "array([[1341,   10],\n",
       "       [  67,   82]], dtype=int64)"
      ]
     },
     "execution_count": 177,
     "metadata": {},
     "output_type": "execute_result"
    }
   ],
   "source": [
    "from sklearn.metrics import confusion_matrix , classification_report\n",
    "confusion_matrix(y_test,svm.predict(X_test))"
   ]
  },
  {
   "cell_type": "code",
   "execution_count": 178,
   "id": "e027f88d-1b81-4c4a-96cc-e0e09c7213db",
   "metadata": {},
   "outputs": [
    {
     "name": "stdout",
     "output_type": "stream",
     "text": [
      "              precision    recall  f1-score   support\n",
      "\n",
      "           0       0.95      0.99      0.97      1351\n",
      "           1       0.89      0.55      0.68       149\n",
      "\n",
      "    accuracy                           0.95      1500\n",
      "   macro avg       0.92      0.77      0.83      1500\n",
      "weighted avg       0.95      0.95      0.94      1500\n",
      "\n"
     ]
    }
   ],
   "source": [
    "print(classification_report(y_test,svm.predict(X_test)))"
   ]
  },
  {
   "cell_type": "markdown",
   "id": "44a26e72-3981-4d0d-95d5-60e2a268fb08",
   "metadata": {},
   "source": [
    "# Naive Bayes"
   ]
  },
  {
   "cell_type": "code",
   "execution_count": 183,
   "id": "b4c0352b-1761-4de7-8f74-5940895d6712",
   "metadata": {},
   "outputs": [],
   "source": [
    "from sklearn.naive_bayes import GaussianNB\n",
    "gnb= GaussianNB()"
   ]
  },
  {
   "cell_type": "markdown",
   "id": "f9cfc33b-ee3b-444b-aa6e-03b65cff2747",
   "metadata": {},
   "source": [
    "### Sample 1 - bank_rel"
   ]
  },
  {
   "cell_type": "code",
   "execution_count": 288,
   "id": "91bd6c72-2566-44a4-8c80-a32078fd771d",
   "metadata": {},
   "outputs": [],
   "source": [
    "gnb.fit(X_bank_train,y_bank_train)\n",
    "from warnings import filterwarnings\n",
    "filterwarnings(\"ignore\")"
   ]
  },
  {
   "cell_type": "code",
   "execution_count": 186,
   "id": "baa6e957-ccfc-42b1-af95-f54f31ea9c83",
   "metadata": {},
   "outputs": [
    {
     "name": "stdout",
     "output_type": "stream",
     "text": [
      "0.8797142857142857\n",
      "0.8626666666666667\n"
     ]
    }
   ],
   "source": [
    "print(gnb.score(X_bank_train,y_bank_train))\n",
    "print(gnb.score(X_bank_test,y_bank_test))"
   ]
  },
  {
   "cell_type": "code",
   "execution_count": 383,
   "id": "a88caaee-4b3f-4e91-afa9-49bf755ad6e8",
   "metadata": {},
   "outputs": [
    {
     "name": "stdout",
     "output_type": "stream",
     "text": [
      "NB Model Accuracy Score Sample 1 - bank_rel : 86.266667\n"
     ]
    }
   ],
   "source": [
    "y_gnb_bank_pred = gnb.predict(X_bank_test)\n",
    "GNB_bank_accuracy = accuracy_score(y_bank_test, y_gnb_bank_pred)*100\n",
    "print('NB Model Accuracy Score Sample 1 - bank_rel : %f'  % GNB_bank_accuracy)"
   ]
  },
  {
   "cell_type": "code",
   "execution_count": 187,
   "id": "ca669d13-3397-45ec-a1dd-d628188a62fe",
   "metadata": {},
   "outputs": [
    {
     "name": "stdout",
     "output_type": "stream",
     "text": [
      "              precision    recall  f1-score   support\n",
      "\n",
      "           0       0.93      0.92      0.92      1351\n",
      "           1       0.33      0.37      0.35       149\n",
      "\n",
      "    accuracy                           0.86      1500\n",
      "   macro avg       0.63      0.64      0.64      1500\n",
      "weighted avg       0.87      0.86      0.87      1500\n",
      "\n"
     ]
    }
   ],
   "source": [
    "print(classification_report(y_bank_test,gnb.predict(X_bank_test)))"
   ]
  },
  {
   "cell_type": "markdown",
   "id": "e81e9d36-374f-4b73-8161-b6a6b72c0215",
   "metadata": {},
   "source": [
    "### Sample 2 - cust_att\n"
   ]
  },
  {
   "cell_type": "code",
   "execution_count": 385,
   "id": "291614c0-fc62-44c5-8989-ae109ec4ea1e",
   "metadata": {},
   "outputs": [
    {
     "data": {
      "text/plain": [
       "GaussianNB()"
      ]
     },
     "execution_count": 385,
     "metadata": {},
     "output_type": "execute_result"
    }
   ],
   "source": [
    "gnb.fit(X_cust_train,y_cust_train)"
   ]
  },
  {
   "cell_type": "code",
   "execution_count": 386,
   "id": "f8549ade-4135-4607-89f6-8a06477f2b6f",
   "metadata": {},
   "outputs": [
    {
     "name": "stdout",
     "output_type": "stream",
     "text": [
      "0.9222857142857143\n",
      "0.924\n"
     ]
    }
   ],
   "source": [
    "print(gnb.score(X_cust_train,y_cust_train))\n",
    "print(gnb.score(X_cust_test,y_cust_test))\n"
   ]
  },
  {
   "cell_type": "code",
   "execution_count": 387,
   "id": "ed517749-fab5-41fe-80fb-f60b7efd0fc4",
   "metadata": {},
   "outputs": [
    {
     "name": "stdout",
     "output_type": "stream",
     "text": [
      "NB Model Accuracy Score Sample 2 - Cust_att : 92.400000\n"
     ]
    }
   ],
   "source": [
    "y_gnb_cust_pred = gnb.predict(X_cust_test)\n",
    "GNB_cust_accuracy = accuracy_score(y_cust_test, y_gnb_cust_pred)*100\n",
    "print('NB Model Accuracy Score Sample 2 - Cust_att : %f'  % GNB_cust_accuracy)"
   ]
  },
  {
   "cell_type": "code",
   "execution_count": 275,
   "id": "79d38996-1eb2-4119-8b17-ced08521828c",
   "metadata": {},
   "outputs": [
    {
     "name": "stdout",
     "output_type": "stream",
     "text": [
      "              precision    recall  f1-score   support\n",
      "\n",
      "           0       0.94      0.97      0.96      1351\n",
      "           1       0.65      0.48      0.56       149\n",
      "\n",
      "    accuracy                           0.92      1500\n",
      "   macro avg       0.80      0.73      0.76      1500\n",
      "weighted avg       0.92      0.92      0.92      1500\n",
      "\n"
     ]
    }
   ],
   "source": [
    "print(classification_report(y_cust_test,gnb.predict(X_cust_test)))"
   ]
  },
  {
   "cell_type": "markdown",
   "id": "446d8e9a-a4e1-4352-b861-572f68502f65",
   "metadata": {},
   "source": [
    "### Sample 3 - whole Data\n"
   ]
  },
  {
   "cell_type": "code",
   "execution_count": 388,
   "id": "14e29f8a-29da-46b6-b940-07ac05bb585b",
   "metadata": {},
   "outputs": [
    {
     "data": {
      "text/plain": [
       "GaussianNB()"
      ]
     },
     "execution_count": 388,
     "metadata": {},
     "output_type": "execute_result"
    }
   ],
   "source": [
    "gnb.fit(X_train,y_train)"
   ]
  },
  {
   "cell_type": "code",
   "execution_count": 389,
   "id": "19e14a04-6fa1-4039-bd70-6ef037eb1179",
   "metadata": {},
   "outputs": [
    {
     "name": "stdout",
     "output_type": "stream",
     "text": [
      "0.89\n",
      "0.8753333333333333\n"
     ]
    }
   ],
   "source": [
    "print(gnb.score(X_train,y_train))\n",
    "print(gnb.score(X_test,y_test))"
   ]
  },
  {
   "cell_type": "code",
   "execution_count": 390,
   "id": "1766dfd3-ad13-4fab-8218-1c2c8c187058",
   "metadata": {},
   "outputs": [
    {
     "name": "stdout",
     "output_type": "stream",
     "text": [
      "NB Model Accuracy Score Sample 3 - Whole-Data : 87.533333\n"
     ]
    }
   ],
   "source": [
    "y_gnb_data_pred = gnb.predict(X_test)\n",
    "GNB_data_accuracy = accuracy_score(y_test, y_gnb_data_pred)*100\n",
    "print('NB Model Accuracy Score Sample 3 - Whole-Data : %f'  % GNB_data_accuracy)"
   ]
  },
  {
   "cell_type": "code",
   "execution_count": 281,
   "id": "4f95e428-2942-4987-b38a-a605c31a5b08",
   "metadata": {},
   "outputs": [
    {
     "name": "stdout",
     "output_type": "stream",
     "text": [
      "              precision    recall  f1-score   support\n",
      "\n",
      "           0       0.95      0.91      0.93      1351\n",
      "           1       0.41      0.56      0.47       149\n",
      "\n",
      "    accuracy                           0.87      1500\n",
      "   macro avg       0.68      0.74      0.70      1500\n",
      "weighted avg       0.90      0.87      0.88      1500\n",
      "\n"
     ]
    }
   ],
   "source": [
    "print(classification_report(y_test,gnb.predict(X_test)))"
   ]
  },
  {
   "cell_type": "markdown",
   "id": "55f478d4-5690-44d3-9c98-af8a76717901",
   "metadata": {},
   "source": [
    "# Observations:\n",
    "\n",
    "### After investigating the above Models on the 3 different samples am working on , we can clearly see that k-Nearest Neighbors Alogorithm gives us best accuracy of 94% on 2 different samples therefor KNN would be the best choice to predict the customers who will accept the personal loan.  "
   ]
  },
  {
   "cell_type": "markdown",
   "id": "9b2a9a29-aaa6-4715-9db8-f11826b8d927",
   "metadata": {},
   "source": [
    "# Detecting  Data imbalancing"
   ]
  },
  {
   "cell_type": "code",
   "execution_count": 203,
   "id": "272b7ac3-3c46-43c9-a5b8-6f0ef4071339",
   "metadata": {},
   "outputs": [
    {
     "data": {
      "text/html": [
       "<div>\n",
       "<style scoped>\n",
       "    .dataframe tbody tr th:only-of-type {\n",
       "        vertical-align: middle;\n",
       "    }\n",
       "\n",
       "    .dataframe tbody tr th {\n",
       "        vertical-align: top;\n",
       "    }\n",
       "\n",
       "    .dataframe thead th {\n",
       "        text-align: right;\n",
       "    }\n",
       "</style>\n",
       "<table border=\"1\" class=\"dataframe\">\n",
       "  <thead>\n",
       "    <tr style=\"text-align: right;\">\n",
       "      <th></th>\n",
       "      <th>Labels</th>\n",
       "      <th>Personal Loan</th>\n",
       "    </tr>\n",
       "  </thead>\n",
       "  <tbody>\n",
       "    <tr>\n",
       "      <th>0</th>\n",
       "      <td>0</td>\n",
       "      <td>4520</td>\n",
       "    </tr>\n",
       "    <tr>\n",
       "      <th>1</th>\n",
       "      <td>1</td>\n",
       "      <td>480</td>\n",
       "    </tr>\n",
       "  </tbody>\n",
       "</table>\n",
       "</div>"
      ],
      "text/plain": [
       "   Labels  Personal Loan\n",
       "0       0           4520\n",
       "1       1            480"
      ]
     },
     "execution_count": 203,
     "metadata": {},
     "output_type": "execute_result"
    }
   ],
   "source": [
    "loan_counts = pd.DataFrame(data[\"Personal Loan\"].value_counts()).reset_index()\n",
    "loan_counts.columns =[\"Labels\",\"Personal Loan\"]\n",
    "loan_counts"
   ]
  },
  {
   "cell_type": "code",
   "execution_count": 211,
   "id": "ae7e0c06-1a75-48d7-adf8-cf6e205752f4",
   "metadata": {},
   "outputs": [
    {
     "data": {
      "image/png": "[encoded data removed]",
      "text/plain": [
       "<Figure size 432x288 with 1 Axes>"
      ]
     },
     "metadata": {},
     "output_type": "display_data"
    }
   ],
   "source": [
    "fig1, ax1 = plt.subplots()\n",
    "explode = (0, 0.15)\n",
    "ax1.pie(loan_counts[\"Personal Loan\"], explode=explode, labels=loan_counts[\"Labels\"], autopct='%1.1f%%',\n",
    "        shadow=True, startangle=70)\n",
    "ax1.axis('equal')  \n",
    "plt.title(\"Personal Loan Percentage\")\n",
    "fig1.patch.set_facecolor('white')\n",
    "plt.show()"
   ]
  },
  {
   "cell_type": "markdown",
   "id": "0cd818d9-a26e-43c0-be18-4ddbffc235f2",
   "metadata": {},
   "source": [
    "### It's Noticed that the data is imbalanced , we will treat the biasing of imbalanced data then recheck the accuracy of our models "
   ]
  },
  {
   "cell_type": "code",
   "execution_count": 194,
   "id": "e76fcc7c-c040-42a0-81d3-62c2d41e94ca",
   "metadata": {},
   "outputs": [],
   "source": [
    "from imblearn.over_sampling import SMOTE\n",
    "ms=SMOTE(random_state=)\n"
   ]
  },
  {
   "cell_type": "code",
   "execution_count": 240,
   "id": "8d9b66f4-c379-47c2-b5d3-a67de4813330",
   "metadata": {},
   "outputs": [
    {
     "name": "stdout",
     "output_type": "stream",
     "text": [
      "x train bank_rel_res (6328, 6)\n",
      "y train bank_rel_res (6328, 1)\n",
      "x test bank_rel_res  (2712, 6)\n",
      "y test bank_rel_res  (2712, 1)\n"
     ]
    }
   ],
   "source": [
    "#Sample 1.1 - bank_rel_res\n",
    "X_ms_bank , y_ms_bank = ms.fit_resample(X_bank,Y_bank)\n",
    "from sklearn.model_selection import train_test_split\n",
    "X_bank_train_res, X_bank_test_res, y_bank_train_res, y_bank_test_res = train_test_split(X_ms_bank, y_ms_bank, test_size=0.30, random_state=1)\n",
    "y_bank_train_ress=y_bank_train_res.reshape(-1,1)\n",
    "y_bank_test_ress=y_bank_test_res.reshape(-1,1)\n",
    "print('x train bank_rel_res {}'.format(X_bank_train_res.shape))\n",
    "print('y train bank_rel_res {}'.format(y_bank_train_ress.shape))\n",
    "print('x test bank_rel_res  {}'.format(X_bank_test_res.shape))\n",
    "print('y test bank_rel_res  {}'.format(y_bank_test_ress.shape))"
   ]
  },
  {
   "cell_type": "code",
   "execution_count": 241,
   "id": "5b162f45-3671-4302-b6dd-d5e27ef0661c",
   "metadata": {},
   "outputs": [
    {
     "name": "stdout",
     "output_type": "stream",
     "text": [
      "x train bank_rel_res (6328, 4)\n",
      "y train bank_rel_res (6328, 1)\n",
      "x test bank_rel_res  (2712, 4)\n",
      "y test bank_rel_res  (2712, 1)\n"
     ]
    }
   ],
   "source": [
    "#Sample 2.2 - cust_att_res\n",
    "X_ms_cust , y_ms_cust = ms.fit_resample(X_cust,Y_cust)\n",
    "from sklearn.model_selection import train_test_split\n",
    "X_cust_train_res, X_cust_test_res, y_cust_train_res, y_cust_test_res = train_test_split(X_ms_cust, y_ms_cust, test_size=0.30, random_state=1)\n",
    "y_cust_train_ress=y_cust_train_res.reshape(-1,1)\n",
    "y_cust_test_ress=y_cust_test_res.reshape(-1,1)\n",
    "print('x train bank_rel_res {}'.format(X_cust_train_res.shape))\n",
    "print('y train bank_rel_res {}'.format(y_cust_train_ress.shape))\n",
    "print('x test bank_rel_res  {}'.format(X_cust_test_res.shape))\n",
    "print('y test bank_rel_res  {}'.format(y_cust_test_ress.shape))"
   ]
  },
  {
   "cell_type": "code",
   "execution_count": 242,
   "id": "a8e2ff35-dc59-4aea-b5a8-57b60bc825d1",
   "metadata": {},
   "outputs": [
    {
     "name": "stdout",
     "output_type": "stream",
     "text": [
      "x train bank_rel_res (6328, 11)\n",
      "y train bank_rel_res (6328, 1)\n",
      "x test bank_rel_res  (2712, 11)\n",
      "y test bank_rel_res  (2712, 1)\n"
     ]
    }
   ],
   "source": [
    "#Sample 3.3 -whole data_res\n",
    "X_ms_data , y_ms_data = ms.fit_resample(X,Y)\n",
    "from sklearn.model_selection import train_test_split\n",
    "X_data_train_res, X_data_test_res, y_data_train_res, y_data_test_res = train_test_split(X_ms_data,y_ms_data, test_size=0.30, random_state=1)\n",
    "y_data_train_ress=y_data_train_res.reshape(-1,1)\n",
    "y_data_test_ress=y_data_test_res.reshape(-1,1)\n",
    "print('x train bank_rel_res {}'.format(X_data_train_res.shape))\n",
    "print('y train bank_rel_res {}'.format(y_data_train_ress.shape))\n",
    "print('x test bank_rel_res  {}'.format(X_data_test_res.shape))\n",
    "print('y test bank_rel_res  {}'.format(y_data_test_ress.shape))"
   ]
  },
  {
   "cell_type": "markdown",
   "id": "153e27ca-4486-4779-964c-4168071556f2",
   "metadata": {},
   "source": [
    "## Logistic Regression After Scaling imbalanced data"
   ]
  },
  {
   "cell_type": "code",
   "execution_count": 486,
   "id": "77396f84-a39a-4535-b9ec-92836ef99a7c",
   "metadata": {},
   "outputs": [],
   "source": [
    "from sklearn.linear_model import LogisticRegression\n",
    "lrr=LogisticRegression (C=1.1)"
   ]
  },
  {
   "cell_type": "code",
   "execution_count": 487,
   "id": "61e8f4cf-0532-44bb-a198-893d3503c822",
   "metadata": {},
   "outputs": [
    {
     "name": "stdout",
     "output_type": "stream",
     "text": [
      "0.7948798988621998\n"
     ]
    }
   ],
   "source": [
    "#Sample 1.1 - bank_rel_res\n",
    "from warnings import filterwarnings\n",
    "filterwarnings(\"ignore\")\n",
    "lrr.fit(X_bank_train_res,y_bank_train_ress)\n",
    "y_bank_pred_res = lrr.predict(X_bank_test_res)\n",
    "print(lrr.score(X_bank_train_res,y_bank_train_ress))\n",
    "\n"
   ]
  },
  {
   "cell_type": "code",
   "execution_count": 488,
   "id": "416b6d54-1289-4632-8437-b2aa62e547ac",
   "metadata": {},
   "outputs": [
    {
     "name": "stdout",
     "output_type": "stream",
     "text": [
      "Logistic Regression Model Accuracy Score Sample 1.1 - bank_rel_resamle : 79.609145\n"
     ]
    }
   ],
   "source": [
    "from sklearn.metrics import accuracy_score\n",
    "logreg_bank_accuracy_res = accuracy_score(y_bank_test_res, y_bank_pred_res)*100\n",
    "print('Logistic Regression Model Accuracy Score Sample 1.1 - bank_rel_resamle : %f'  % logreg_bank_accuracy_res)"
   ]
  },
  {
   "cell_type": "code",
   "execution_count": 489,
   "id": "1960af2f-ac8b-4a4e-b55f-1757a8b709a0",
   "metadata": {},
   "outputs": [
    {
     "name": "stdout",
     "output_type": "stream",
     "text": [
      "              precision    recall  f1-score   support\n",
      "\n",
      "           0       0.77      0.84      0.80      1350\n",
      "           1       0.82      0.75      0.79      1362\n",
      "\n",
      "    accuracy                           0.80      2712\n",
      "   macro avg       0.80      0.80      0.80      2712\n",
      "weighted avg       0.80      0.80      0.80      2712\n",
      "\n"
     ]
    }
   ],
   "source": [
    "print(classification_report(y_bank_test_res,lrr.predict(X_bank_test_res)))"
   ]
  },
  {
   "cell_type": "code",
   "execution_count": 490,
   "id": "36bf6903-61bb-47d5-85de-02db83ae45a5",
   "metadata": {},
   "outputs": [
    {
     "name": "stdout",
     "output_type": "stream",
     "text": [
      "0.870417193426043\n"
     ]
    }
   ],
   "source": [
    "#Sample 2.2 - cust_att_res\n",
    "from warnings import filterwarnings\n",
    "filterwarnings(\"ignore\")\n",
    "lrr.fit(X_cust_train_res,y_cust_train_ress)\n",
    "y_cust_pred_res = lrr.predict(X_cust_test_res)\n",
    "print(lrr.score(X_cust_train_res,y_cust_train_ress))"
   ]
  },
  {
   "cell_type": "code",
   "execution_count": 491,
   "id": "7f84cbcb-37f5-466b-adc5-5b70f9dd0f5c",
   "metadata": {},
   "outputs": [
    {
     "name": "stdout",
     "output_type": "stream",
     "text": [
      "Logistic Regression Model Accuracy Score Sample 2.2 - cust_att_resamle : 87.463127\n"
     ]
    }
   ],
   "source": [
    "from sklearn.metrics import accuracy_score\n",
    "logreg_cust_accuracy_res = accuracy_score(y_cust_test_res, y_cust_pred_res)*100\n",
    "print('Logistic Regression Model Accuracy Score Sample 2.2 - cust_att_resamle : %f'  % logreg_cust_accuracy_res)"
   ]
  },
  {
   "cell_type": "code",
   "execution_count": 492,
   "id": "dddcc9d9-ad4a-4247-ac25-f5461d2a3398",
   "metadata": {},
   "outputs": [
    {
     "name": "stdout",
     "output_type": "stream",
     "text": [
      "              precision    recall  f1-score   support\n",
      "\n",
      "           0       0.88      0.87      0.87      1350\n",
      "           1       0.87      0.88      0.88      1362\n",
      "\n",
      "    accuracy                           0.87      2712\n",
      "   macro avg       0.87      0.87      0.87      2712\n",
      "weighted avg       0.87      0.87      0.87      2712\n",
      "\n"
     ]
    }
   ],
   "source": [
    "print(classification_report(y_cust_test_res,lrr.predict(X_cust_test_res)))"
   ]
  },
  {
   "cell_type": "code",
   "execution_count": 493,
   "id": "5651f857-43e6-493c-a2cb-ea8f2d5ab440",
   "metadata": {},
   "outputs": [
    {
     "name": "stdout",
     "output_type": "stream",
     "text": [
      "0.8985461441213654\n"
     ]
    }
   ],
   "source": [
    "#Sample 3.3 -whole data_res\n",
    "from warnings import filterwarnings\n",
    "filterwarnings(\"ignore\")\n",
    "lrr.fit(X_data_train_res,y_data_train_ress)\n",
    "y_data_pred_res = lrr.predict(X_data_test_res)\n",
    "print(lrr.score(X_data_train_res,y_data_train_ress))"
   ]
  },
  {
   "cell_type": "code",
   "execution_count": 494,
   "id": "75b84fdc-725e-46a7-a7c6-a649b57b4127",
   "metadata": {},
   "outputs": [
    {
     "name": "stdout",
     "output_type": "stream",
     "text": [
      "Logistic Regression Model Accuracy Score Sample 3.3 -whole data_resamle : 89.343658\n"
     ]
    }
   ],
   "source": [
    "from sklearn.metrics import accuracy_score\n",
    "logreg_data_accuracy_res = accuracy_score(y_data_test_res, y_data_pred_res)*100\n",
    "print('Logistic Regression Model Accuracy Score Sample 3.3 -whole data_resamle : %f'  % logreg_data_accuracy_res)"
   ]
  },
  {
   "cell_type": "code",
   "execution_count": 495,
   "id": "fb3f5f4b-a4c9-4a51-a4f6-92ac58b9a3d6",
   "metadata": {},
   "outputs": [
    {
     "name": "stdout",
     "output_type": "stream",
     "text": [
      "              precision    recall  f1-score   support\n",
      "\n",
      "           0       0.90      0.89      0.89      1350\n",
      "           1       0.89      0.90      0.89      1362\n",
      "\n",
      "    accuracy                           0.89      2712\n",
      "   macro avg       0.89      0.89      0.89      2712\n",
      "weighted avg       0.89      0.89      0.89      2712\n",
      "\n"
     ]
    }
   ],
   "source": [
    "print(classification_report(y_data_test_res,lrr.predict(X_data_test_res)))"
   ]
  },
  {
   "cell_type": "markdown",
   "id": "8ad3dd42-8870-4921-b15c-df15c9a6cd89",
   "metadata": {},
   "source": [
    "# KNN After Scaling imbalanced data"
   ]
  },
  {
   "cell_type": "code",
   "execution_count": 466,
   "id": "8bb23799-c987-46d4-954f-bb0c13e19e13",
   "metadata": {},
   "outputs": [],
   "source": [
    "from sklearn.neighbors import KNeighborsClassifier \n",
    "kclsf=KNeighborsClassifier (n_neighbors=1)\n",
    "\n"
   ]
  },
  {
   "cell_type": "code",
   "execution_count": 467,
   "id": "b4cd232e-69aa-4cac-8e65-c8c853d8551c",
   "metadata": {},
   "outputs": [
    {
     "name": "stdout",
     "output_type": "stream",
     "text": [
      "0.959070796460177\n"
     ]
    }
   ],
   "source": [
    "#Sample 1.1 - bank_rel_res\n",
    "\n",
    "kclsf.fit(X_bank_train_res,y_bank_train_ress)\n",
    "y_knn_bank_pred = kclsf.predict(X_bank_test_res)\n",
    "print(kclsf.score(X_bank_train_res,y_bank_train_ress))\n"
   ]
  },
  {
   "cell_type": "code",
   "execution_count": 468,
   "id": "dd0b9808-8a0c-4f3a-86e4-5b5d28935187",
   "metadata": {},
   "outputs": [
    {
     "name": "stdout",
     "output_type": "stream",
     "text": [
      "KNN Model Accuracy Score Sample 1.1 - bank_rel_resample : 79.609145\n"
     ]
    }
   ],
   "source": [
    "KNN_bank_accuracy_res = accuracy_score(y_bank_test_res, y_bank_pred_res)*100\n",
    "print('KNN Model Accuracy Score Sample 1.1 - bank_rel_resample : %f'  % KNN_bank_accuracy_res)"
   ]
  },
  {
   "cell_type": "code",
   "execution_count": 469,
   "id": "84e7851c-3aaf-4ef7-8b1c-3bce8bf66cc5",
   "metadata": {},
   "outputs": [
    {
     "name": "stdout",
     "output_type": "stream",
     "text": [
      "              precision    recall  f1-score   support\n",
      "\n",
      "           0       0.88      0.91      0.89      1350\n",
      "           1       0.91      0.87      0.89      1362\n",
      "\n",
      "    accuracy                           0.89      2712\n",
      "   macro avg       0.89      0.89      0.89      2712\n",
      "weighted avg       0.89      0.89      0.89      2712\n",
      "\n"
     ]
    }
   ],
   "source": [
    "print(classification_report(y_bank_test_res,kclsf.predict(X_bank_test_res)))"
   ]
  },
  {
   "cell_type": "code",
   "execution_count": 470,
   "id": "7d928067-9204-44f5-b7a2-ac9387aa05dc",
   "metadata": {},
   "outputs": [
    {
     "name": "stdout",
     "output_type": "stream",
     "text": [
      "0.9987357774968394\n"
     ]
    }
   ],
   "source": [
    "#Sample 2.2 - cust_att_res\n",
    "kclsf.fit(X_cust_train_res,y_cust_train_ress)\n",
    "y_knn_cust_pred = kclsf.predict(X_cust_test_res)\n",
    "print(kclsf.score(X_cust_train_res,y_cust_train_ress))"
   ]
  },
  {
   "cell_type": "code",
   "execution_count": 471,
   "id": "9a981cff-9133-49f4-a4bd-c7d3012b1ed7",
   "metadata": {},
   "outputs": [
    {
     "name": "stdout",
     "output_type": "stream",
     "text": [
      "KNN Model Accuracy Score Sample 2.2 - cust_att_resample : 87.463127\n"
     ]
    }
   ],
   "source": [
    "KNN_cust_accuracy_res = accuracy_score(y_cust_test_res, y_cust_pred_res)*100\n",
    "print('KNN Model Accuracy Score Sample 2.2 - cust_att_resample : %f'  % KNN_cust_accuracy_res)"
   ]
  },
  {
   "cell_type": "code",
   "execution_count": 472,
   "id": "0f72642e-4aba-4980-aef1-3fdcba6b0aa1",
   "metadata": {},
   "outputs": [
    {
     "name": "stdout",
     "output_type": "stream",
     "text": [
      "              precision    recall  f1-score   support\n",
      "\n",
      "           0       0.97      0.89      0.93      1350\n",
      "           1       0.90      0.98      0.93      1362\n",
      "\n",
      "    accuracy                           0.93      2712\n",
      "   macro avg       0.93      0.93      0.93      2712\n",
      "weighted avg       0.93      0.93      0.93      2712\n",
      "\n"
     ]
    }
   ],
   "source": [
    "print(classification_report(y_cust_test_res,kclsf.predict(X_cust_test_res)))"
   ]
  },
  {
   "cell_type": "code",
   "execution_count": 473,
   "id": "9fd77ee8-c54e-4513-bf07-146e867d9551",
   "metadata": {},
   "outputs": [
    {
     "name": "stdout",
     "output_type": "stream",
     "text": [
      "1.0\n"
     ]
    }
   ],
   "source": [
    "#Sample 3.3 -whole data_res\n",
    "kclsf.fit(X_data_train_res,y_data_train_ress)\n",
    "y_knn_data_pred = kclsf.predict(X_data_test_res)\n",
    "print(kclsf.score(X_data_train_res,y_data_train_ress))"
   ]
  },
  {
   "cell_type": "code",
   "execution_count": 474,
   "id": "8eb24a87-8890-49e8-a650-18ca5ad7a7e5",
   "metadata": {},
   "outputs": [
    {
     "name": "stdout",
     "output_type": "stream",
     "text": [
      "KNN Model Accuracy Score Sample 3.3 - whole data_resample : 89.343658\n"
     ]
    }
   ],
   "source": [
    "KNN_data_accuracy_res = accuracy_score(y_data_test_res, y_data_pred_res)*100\n",
    "print('KNN Model Accuracy Score Sample 3.3 - whole data_resample : %f'  % KNN_data_accuracy_res)"
   ]
  },
  {
   "cell_type": "code",
   "execution_count": 475,
   "id": "871da0c7-cc6b-4501-9b20-adaf61cc8dbe",
   "metadata": {},
   "outputs": [
    {
     "name": "stdout",
     "output_type": "stream",
     "text": [
      "              precision    recall  f1-score   support\n",
      "\n",
      "           0       0.99      0.93      0.96      1350\n",
      "           1       0.94      0.99      0.96      1362\n",
      "\n",
      "    accuracy                           0.96      2712\n",
      "   macro avg       0.96      0.96      0.96      2712\n",
      "weighted avg       0.96      0.96      0.96      2712\n",
      "\n"
     ]
    }
   ],
   "source": [
    "print(classification_report(y_data_test_res,kclsf.predict(X_data_test_res)))"
   ]
  },
  {
   "cell_type": "markdown",
   "id": "0b095911-a689-4ce1-80ab-9f6c3a43914a",
   "metadata": {},
   "source": [
    "# Confusion Matrix After Scaling"
   ]
  },
  {
   "cell_type": "code",
   "execution_count": 328,
   "id": "f861aa69-733a-41a6-bc3a-efb91b330497",
   "metadata": {},
   "outputs": [],
   "source": [
    "from sklearn.svm import SVC"
   ]
  },
  {
   "cell_type": "markdown",
   "id": "3de03584-66c0-40e4-a622-b5de67129c4b",
   "metadata": {},
   "source": [
    "### Sample 1.1 - bank_rel_res"
   ]
  },
  {
   "cell_type": "code",
   "execution_count": 330,
   "id": "1a0d741c-d422-43ac-969c-5492f00b62e7",
   "metadata": {},
   "outputs": [
    {
     "data": {
      "text/plain": [
       "SVC(C=4, kernel='poly')"
      ]
     },
     "execution_count": 330,
     "metadata": {},
     "output_type": "execute_result"
    }
   ],
   "source": [
    "svmm = SVC(C=4 , kernel='poly')\n",
    "svmm.fit(X_bank_train_res,y_bank_train_ress)"
   ]
  },
  {
   "cell_type": "code",
   "execution_count": 331,
   "id": "6959b53c-e5bb-4fd2-9a67-23b060515827",
   "metadata": {},
   "outputs": [
    {
     "name": "stdout",
     "output_type": "stream",
     "text": [
      "0.70448798988622\n",
      "0.7112831858407079\n"
     ]
    }
   ],
   "source": [
    "print(svmm.score(X_bank_train_res,y_bank_train_ress))\n",
    "print(svmm.score(X_bank_test_res,y_bank_test_ress))"
   ]
  },
  {
   "cell_type": "code",
   "execution_count": 332,
   "id": "d5365c84-d1e2-4447-ab46-ebe5d7193ff5",
   "metadata": {},
   "outputs": [
    {
     "name": "stdout",
     "output_type": "stream",
     "text": [
      "CM Model Accuracy Score Sample 1 - bank_rel_resample : 71.128319\n"
     ]
    }
   ],
   "source": [
    "y_cm_bank_pred_res = svmm.predict(X_bank_test_res)\n",
    "CM_bank_accuracy_res = accuracy_score(y_bank_test_ress, y_cm_bank_pred_res)*100\n",
    "print('CM Model Accuracy Score Sample 1 - bank_rel_resample : %f'  % CM_bank_accuracy_res)"
   ]
  },
  {
   "cell_type": "code",
   "execution_count": 333,
   "id": "61576108-d740-4af5-b5ce-1ceaf4571fc2",
   "metadata": {},
   "outputs": [
    {
     "data": {
      "text/plain": [
       "array([[1235,  115],\n",
       "       [ 668,  694]], dtype=int64)"
      ]
     },
     "execution_count": 333,
     "metadata": {},
     "output_type": "execute_result"
    }
   ],
   "source": [
    "from sklearn.metrics import confusion_matrix , classification_report\n",
    "confusion_matrix(y_bank_test_ress,svmm.predict(X_bank_test_res))"
   ]
  },
  {
   "cell_type": "code",
   "execution_count": 334,
   "id": "338cb556-04bb-4fcc-b697-76249bb3850c",
   "metadata": {},
   "outputs": [
    {
     "name": "stdout",
     "output_type": "stream",
     "text": [
      "              precision    recall  f1-score   support\n",
      "\n",
      "           0       0.65      0.91      0.76      1350\n",
      "           1       0.86      0.51      0.64      1362\n",
      "\n",
      "    accuracy                           0.71      2712\n",
      "   macro avg       0.75      0.71      0.70      2712\n",
      "weighted avg       0.75      0.71      0.70      2712\n",
      "\n"
     ]
    }
   ],
   "source": [
    "print(classification_report(y_bank_test_ress,svmm.predict(X_bank_test_res)))"
   ]
  },
  {
   "cell_type": "markdown",
   "id": "2323a67b-fa07-47d3-addd-5126011e0215",
   "metadata": {},
   "source": [
    "### Sample 2.2 - cust_att_res"
   ]
  },
  {
   "cell_type": "code",
   "execution_count": 335,
   "id": "b21a3b6e-f7b1-45cb-9df3-4edabce8887d",
   "metadata": {},
   "outputs": [
    {
     "data": {
      "text/plain": [
       "SVC(C=4, kernel='poly')"
      ]
     },
     "execution_count": 335,
     "metadata": {},
     "output_type": "execute_result"
    }
   ],
   "source": [
    "svmm.fit(X_cust_train_res,y_cust_train_ress)"
   ]
  },
  {
   "cell_type": "code",
   "execution_count": 336,
   "id": "aed7cdb5-adda-49a3-9987-3ffa891b762a",
   "metadata": {},
   "outputs": [
    {
     "name": "stdout",
     "output_type": "stream",
     "text": [
      "0.8810050568900126\n",
      "0.8845870206489675\n"
     ]
    }
   ],
   "source": [
    "print(svmm.score(X_cust_train_res,y_cust_train_ress))\n",
    "print(svmm.score(X_cust_test_res,y_cust_test_ress))"
   ]
  },
  {
   "cell_type": "code",
   "execution_count": 337,
   "id": "f13d0f86-4ef9-4bad-be00-57633e65005e",
   "metadata": {},
   "outputs": [
    {
     "name": "stdout",
     "output_type": "stream",
     "text": [
      "CM Model Accuracy Score Sample 2.2 - cust_att_resample : 88.458702\n"
     ]
    }
   ],
   "source": [
    "y_cm_cust_pred_res = svmm.predict(X_cust_test_res)\n",
    "CM_cust_accuracy_res = accuracy_score(y_cust_test_ress, y_cm_cust_pred_res)*100\n",
    "print('CM Model Accuracy Score Sample 2.2 - cust_att_resample : %f'  % CM_cust_accuracy_res)"
   ]
  },
  {
   "cell_type": "code",
   "execution_count": 338,
   "id": "b3d474c5-e1fc-4823-8832-c144c2d6043f",
   "metadata": {},
   "outputs": [
    {
     "data": {
      "text/plain": [
       "array([[1161,  189],\n",
       "       [ 124, 1238]], dtype=int64)"
      ]
     },
     "execution_count": 338,
     "metadata": {},
     "output_type": "execute_result"
    }
   ],
   "source": [
    "confusion_matrix(y_cust_test_ress,svmm.predict(X_cust_test_res))"
   ]
  },
  {
   "cell_type": "code",
   "execution_count": 339,
   "id": "ef227d49-9437-4a62-b83f-ed056e065311",
   "metadata": {},
   "outputs": [
    {
     "name": "stdout",
     "output_type": "stream",
     "text": [
      "              precision    recall  f1-score   support\n",
      "\n",
      "           0       0.90      0.86      0.88      1350\n",
      "           1       0.87      0.91      0.89      1362\n",
      "\n",
      "    accuracy                           0.88      2712\n",
      "   macro avg       0.89      0.88      0.88      2712\n",
      "weighted avg       0.89      0.88      0.88      2712\n",
      "\n"
     ]
    }
   ],
   "source": [
    "print(classification_report(y_cust_test_ress,svmm.predict(X_cust_test_res)))"
   ]
  },
  {
   "cell_type": "markdown",
   "id": "4b2c2763-c464-4946-b056-e321ce75ff9c",
   "metadata": {},
   "source": [
    "### Sample 3.3 - whole Data_res"
   ]
  },
  {
   "cell_type": "code",
   "execution_count": 340,
   "id": "4ea3657d-ed91-4266-9a21-9921939aa564",
   "metadata": {},
   "outputs": [
    {
     "data": {
      "text/plain": [
       "SVC(C=4, kernel='poly')"
      ]
     },
     "execution_count": 340,
     "metadata": {},
     "output_type": "execute_result"
    }
   ],
   "source": [
    "svmm.fit(X_data_train_res,y_data_train_ress)"
   ]
  },
  {
   "cell_type": "code",
   "execution_count": 341,
   "id": "ed65e3f3-9be7-4a15-8cb9-d6c403887ec8",
   "metadata": {},
   "outputs": [
    {
     "name": "stdout",
     "output_type": "stream",
     "text": [
      "0.888432364096081\n",
      "0.8919616519174042\n"
     ]
    }
   ],
   "source": [
    "print(svmm.score(X_data_train_res,y_data_train_ress))\n",
    "print(svmm.score(X_data_test_res,y_data_test_ress))"
   ]
  },
  {
   "cell_type": "code",
   "execution_count": 342,
   "id": "a941a51b-658b-44e6-9f63-055833a0a586",
   "metadata": {},
   "outputs": [
    {
     "name": "stdout",
     "output_type": "stream",
     "text": [
      "CM Model Accuracy Score Sample 3.3 - whole_data_resample : 89.196165\n"
     ]
    }
   ],
   "source": [
    "y_cm_data_pred_res = svmm.predict(X_data_test_res)\n",
    "CM_data_accuracy_res = accuracy_score(y_data_test_ress, y_cm_data_pred_res)*100\n",
    "print('CM Model Accuracy Score Sample 3.3 - whole_data_resample : %f'  % CM_data_accuracy_res)"
   ]
  },
  {
   "cell_type": "code",
   "execution_count": 365,
   "id": "ad481f5f-c9f0-4f63-9629-8e9c6532c126",
   "metadata": {},
   "outputs": [
    {
     "data": {
      "text/plain": [
       "array([[1183,  167],\n",
       "       [ 126, 1236]], dtype=int64)"
      ]
     },
     "execution_count": 365,
     "metadata": {},
     "output_type": "execute_result"
    }
   ],
   "source": [
    "confusion_matrix(y_data_test_ress,svmm.predict(X_data_test_res))"
   ]
  },
  {
   "cell_type": "code",
   "execution_count": 344,
   "id": "fd4d85fd-79a5-4e06-9819-83f166702948",
   "metadata": {},
   "outputs": [
    {
     "name": "stdout",
     "output_type": "stream",
     "text": [
      "              precision    recall  f1-score   support\n",
      "\n",
      "           0       0.90      0.88      0.89      1350\n",
      "           1       0.88      0.91      0.89      1362\n",
      "\n",
      "    accuracy                           0.89      2712\n",
      "   macro avg       0.89      0.89      0.89      2712\n",
      "weighted avg       0.89      0.89      0.89      2712\n",
      "\n"
     ]
    }
   ],
   "source": [
    "print(classification_report(y_data_test_ress,svmm.predict(X_data_test_res)))"
   ]
  },
  {
   "cell_type": "markdown",
   "id": "db8f2784-80be-4068-8fd5-95f00d253d0f",
   "metadata": {},
   "source": [
    "# Naive Bayes After Scaling"
   ]
  },
  {
   "cell_type": "code",
   "execution_count": 392,
   "id": "7a691869-3ff9-470a-a35d-da650e35847b",
   "metadata": {},
   "outputs": [],
   "source": [
    "from sklearn.naive_bayes import GaussianNB\n",
    "ganb= GaussianNB()\n"
   ]
  },
  {
   "cell_type": "markdown",
   "id": "b7078e80-8a5e-4044-b3d7-01aaee1ed6bf",
   "metadata": {},
   "source": [
    "### Sample 1.1 - bank_rel_res"
   ]
  },
  {
   "cell_type": "code",
   "execution_count": 393,
   "id": "55f26d91-0f53-44e8-b2f2-6cd3280c890a",
   "metadata": {},
   "outputs": [],
   "source": [
    "ganb.fit(X_bank_train_res,y_bank_train_ress)\n",
    "from warnings import filterwarnings\n",
    "filterwarnings(\"ignore\")\n"
   ]
  },
  {
   "cell_type": "code",
   "execution_count": 394,
   "id": "baa61442-93ee-45be-aedc-5e8b7b11822f",
   "metadata": {},
   "outputs": [
    {
     "name": "stdout",
     "output_type": "stream",
     "text": [
      "0.754582806573957\n",
      "0.7477876106194691\n"
     ]
    }
   ],
   "source": [
    "print(ganb.score(X_bank_train_res,y_bank_train_ress))\n",
    "print(ganb.score(X_bank_test_res,y_bank_test_ress))\n"
   ]
  },
  {
   "cell_type": "code",
   "execution_count": 395,
   "id": "9ba72de1-5149-4f61-8097-f53f30787111",
   "metadata": {},
   "outputs": [
    {
     "name": "stdout",
     "output_type": "stream",
     "text": [
      "NB Model Accuracy Score Sample 1.1 - bank_rel_resample : 74.778761\n"
     ]
    }
   ],
   "source": [
    "y_gnb_bank_pred_res = ganb.predict(X_bank_test_res)\n",
    "GNB_bank_accuracy_res = accuracy_score(y_bank_test_ress, y_gnb_bank_pred_res)*100\n",
    "print('NB Model Accuracy Score Sample 1.1 - bank_rel_resample : %f'  % GNB_bank_accuracy_res)"
   ]
  },
  {
   "cell_type": "code",
   "execution_count": 396,
   "id": "38fdf148-5ec9-450d-956c-e3e622374c1c",
   "metadata": {},
   "outputs": [
    {
     "name": "stdout",
     "output_type": "stream",
     "text": [
      "              precision    recall  f1-score   support\n",
      "\n",
      "           0       0.69      0.88      0.78      1350\n",
      "           1       0.84      0.62      0.71      1362\n",
      "\n",
      "    accuracy                           0.75      2712\n",
      "   macro avg       0.77      0.75      0.74      2712\n",
      "weighted avg       0.77      0.75      0.74      2712\n",
      "\n"
     ]
    }
   ],
   "source": [
    "print(classification_report(y_bank_test_ress,ganb.predict(X_bank_test_res)))"
   ]
  },
  {
   "cell_type": "markdown",
   "id": "5485bd19-9184-4603-9343-03f8aebb8876",
   "metadata": {},
   "source": [
    "### Sample 2.2 - cust_att_res"
   ]
  },
  {
   "cell_type": "code",
   "execution_count": 398,
   "id": "06f4d467-e14b-4239-9bf3-62136f671850",
   "metadata": {},
   "outputs": [],
   "source": [
    "ganb.fit(X_cust_train_res,y_cust_train_res)\n",
    "from warnings import filterwarnings\n",
    "filterwarnings(\"ignore\")\n"
   ]
  },
  {
   "cell_type": "code",
   "execution_count": 399,
   "id": "d5623513-1be9-4b49-bb85-f5a184e54560",
   "metadata": {},
   "outputs": [
    {
     "name": "stdout",
     "output_type": "stream",
     "text": [
      "0.8776864728192162\n",
      "0.8790560471976401\n"
     ]
    }
   ],
   "source": [
    "print(ganb.score(X_cust_train_res,y_cust_train_res))\n",
    "print(ganb.score(X_cust_test_res,y_cust_test_ress))\n"
   ]
  },
  {
   "cell_type": "code",
   "execution_count": 400,
   "id": "5b7d14a8-9feb-433a-994b-c622607b1fff",
   "metadata": {},
   "outputs": [
    {
     "name": "stdout",
     "output_type": "stream",
     "text": [
      "NB Model Accuracy Score Sample 2.2 - cust_att_resample : 87.905605\n"
     ]
    }
   ],
   "source": [
    "y_gnb_cust_pred_res = ganb.predict(X_cust_test_res)\n",
    "GNB_cust_accuracy_res = accuracy_score(y_cust_test_ress, y_gnb_cust_pred_res)*100\n",
    "print('NB Model Accuracy Score Sample 2.2 - cust_att_resample : %f'  % GNB_cust_accuracy_res)"
   ]
  },
  {
   "cell_type": "code",
   "execution_count": 401,
   "id": "0dad0529-a472-4a10-a86a-92ab811be26d",
   "metadata": {},
   "outputs": [
    {
     "name": "stdout",
     "output_type": "stream",
     "text": [
      "              precision    recall  f1-score   support\n",
      "\n",
      "           0       0.88      0.88      0.88      1350\n",
      "           1       0.88      0.88      0.88      1362\n",
      "\n",
      "    accuracy                           0.88      2712\n",
      "   macro avg       0.88      0.88      0.88      2712\n",
      "weighted avg       0.88      0.88      0.88      2712\n",
      "\n"
     ]
    }
   ],
   "source": [
    "print(classification_report(y_cust_test_ress,ganb.predict(X_cust_test_res)))"
   ]
  },
  {
   "cell_type": "markdown",
   "id": "bf75fdd0-e2fc-4e53-910c-3558502b0651",
   "metadata": {},
   "source": [
    "### Sample 3.3 - whole Data_res"
   ]
  },
  {
   "cell_type": "code",
   "execution_count": 402,
   "id": "0a09a0aa-e97c-4013-91a6-f02c2c935a52",
   "metadata": {},
   "outputs": [],
   "source": [
    "ganb.fit(X_data_train_res,y_data_train_ress)\n",
    "from warnings import filterwarnings\n",
    "filterwarnings(\"ignore\")\n"
   ]
  },
  {
   "cell_type": "code",
   "execution_count": 403,
   "id": "ae0e53ee-2288-45d3-af35-c4a8daeb5e28",
   "metadata": {},
   "outputs": [
    {
     "name": "stdout",
     "output_type": "stream",
     "text": [
      "0.8596713021491783\n",
      "0.8547197640117994\n"
     ]
    }
   ],
   "source": [
    "print(ganb.score(X_data_train_res,y_data_train_ress))\n",
    "print(ganb.score(X_data_test_res,y_data_test_ress))"
   ]
  },
  {
   "cell_type": "code",
   "execution_count": 404,
   "id": "257c0fa6-7339-4abc-8c0f-1231f011dbe5",
   "metadata": {},
   "outputs": [
    {
     "name": "stdout",
     "output_type": "stream",
     "text": [
      "NB Model Accuracy Score Sample 3.3 - Whole-Data_resample : 85.471976\n"
     ]
    }
   ],
   "source": [
    "y_gnb_data_pred_res = ganb.predict(X_data_test_res)\n",
    "GNB_data_accuracy_res = accuracy_score(y_data_test_ress, y_gnb_data_pred_res)*100\n",
    "print('NB Model Accuracy Score Sample 3.3 - Whole-Data_resample : %f'  % GNB_data_accuracy_res)"
   ]
  },
  {
   "cell_type": "code",
   "execution_count": 381,
   "id": "56ce3f9d-6c4f-4053-8058-cc53f71bc264",
   "metadata": {},
   "outputs": [
    {
     "name": "stdout",
     "output_type": "stream",
     "text": [
      "              precision    recall  f1-score   support\n",
      "\n",
      "           0       0.83      0.89      0.86      1350\n",
      "           1       0.88      0.82      0.85      1362\n",
      "\n",
      "    accuracy                           0.85      2712\n",
      "   macro avg       0.86      0.85      0.85      2712\n",
      "weighted avg       0.86      0.85      0.85      2712\n",
      "\n"
     ]
    }
   ],
   "source": [
    "print(classification_report(y_data_test_ress,ganb.predict(X_data_test_res)))"
   ]
  },
  {
   "cell_type": "markdown",
   "id": "47929a46-015b-4611-97da-3c02ce504783",
   "metadata": {},
   "source": [
    "### Customers who have income above 100k dollars , Advance/graduate level education, a family of more than 2, such customers have higher chances of taking personal loans.\n",
    "\n",
    "\n",
    "we can clearly see that k-Nearest Neighbors Algorithm with scaled data gives us best accuracy of 96%. With the whole Data Features.\n"
   ]
  },
  {
   "cell_type": "code",
   "execution_count": null,
   "id": "875537c0-5689-440c-b800-269f2a31a75c",
   "metadata": {},
   "outputs": [],
   "source": []
  }
 ],
 "metadata": {
  "kernelspec": {
   "display_name": "Python 3",
   "language": "python",
   "name": "python3"
  },
  "language_info": {
   "codemirror_mode": {
    "name": "ipython",
    "version": 3
   },
   "file_extension": ".py",
   "mimetype": "text/x-python",
   "name": "python",
   "nbconvert_exporter": "python",
   "pygments_lexer": "ipython3",
   "version": "3.8.8"
  }
 },
 "nbformat": 4,
 "nbformat_minor": 5
}
